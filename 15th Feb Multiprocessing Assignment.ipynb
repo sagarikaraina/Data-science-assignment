{
 "cells": [
  {
   "cell_type": "markdown",
   "id": "8ad2394c-62e9-4f28-864a-ab60176bc29c",
   "metadata": {},
   "source": [
    "## Q1. What is multiprocessing in python? Why is it useful?"
   ]
  },
  {
   "cell_type": "markdown",
   "id": "c1e590f1-fd7c-400a-86e0-91e724d3aec1",
   "metadata": {},
   "source": [
    "* Multiprocessing is a module that allows to run multiple processes in parallel to execute tasks in a faster and more efficient way. \n",
    "* It allows us to take advantage of multiple CPU cores to perform concurrent execution of tasks.\n",
    "* It reduces the overall processing time and increase the performance of application.\n",
    "* Multiprocessing also helps avoid issues such as deadlocks and race conditions, which can occur when multiple threads or processes try to access the same resources concurrently. By isolating different parts of program in separate processes, we can ensure that they don't interfere with each other and that they can continue running even if one of them encounters an error or crashes."
   ]
  },
  {
   "cell_type": "markdown",
   "id": "628b4508-9d54-496f-b2c9-59beeb4572c6",
   "metadata": {},
   "source": [
    "## Q2. What are the differences between multiprocessing and multithreading?"
   ]
  },
  {
   "cell_type": "markdown",
   "id": "70025113-e980-4147-9e2a-9a8063714995",
   "metadata": {},
   "source": [
    "1. Processes vs. Threads: Multiprocessing creates separate processes, whereas multithreading creates separate threads within a process. Each process has its own memory space, whereas all threads share the same memory space.\n",
    "2. Resource Allocation: Multiprocessing requires more system resources (such as memory) than multithreading because each process has its own memory space. In contrast, multithreading can be more efficient in terms of resource usage because threads share the same memory space.\n",
    "3. Parallelism: Multiprocessing can achieve true parallelism because processes can run on separate CPU cores. In contrast, multithreading achieves concurrency but not necessarily parallelism, because threads run on the same CPU core and are executed in a time-sliced manner.\n",
    "4. Communication: Inter-process communication (IPC) is required for communication between processes, whereas inter-thread communication (ITC) can be achieved more easily through shared memory.\n",
    "5. Complexity: Multiprocessing is generally more complex to use than multithreading because it involves coordinating multiple processes and managing IPC. In contrast, multithreading is simpler to use because threads share the same memory space and ITC is easier to implement."
   ]
  },
  {
   "cell_type": "markdown",
   "id": "9eccd772-370e-4afc-8f52-8192bd909a3f",
   "metadata": {},
   "source": [
    "## Q3. Write a python code to create a process using the multiprocessing module."
   ]
  },
  {
   "cell_type": "code",
   "execution_count": 5,
   "id": "513f3c14-8e12-456d-996d-dbc000f93e3e",
   "metadata": {},
   "outputs": [
    {
     "name": "stdout",
     "output_type": "stream",
     "text": [
      "Worker process running\n",
      "Main process completed\n"
     ]
    }
   ],
   "source": [
    "import multiprocessing\n",
    "def test():\n",
    "    print('Worker process running')\n",
    "if __name__=='__main__':\n",
    "    m=multiprocessing.Process(target=test)\n",
    "    m.start()\n",
    "    m.join()\n",
    "    print('Main process completed')"
   ]
  },
  {
   "cell_type": "markdown",
   "id": "51aae3f3-314c-47a7-b4ca-6adecacd0bba",
   "metadata": {},
   "source": [
    "## Q4. What is a multiprocessing pool in python? Why is it used?"
   ]
  },
  {
   "cell_type": "markdown",
   "id": "4cb402f5-1fbe-4953-a63f-e1c2aa1554ef",
   "metadata": {},
   "source": [
    "* A multiprocessing pool in Python is a convenient way to distribute a set of tasks across a group of worker processes, and to collect the results when the tasks are completed. \n",
    "* A pool can be used to parallelize a variety of computational tasks, such as iterating over a large set of data, performing a set of independent calculations, or making a set of independent network requests. Instead of running these tasks sequentially on a single CPU core, a pool can distribute them across multiple CPU cores, allowing them to be executed in parallel and potentially reducing the overall processing time."
   ]
  },
  {
   "cell_type": "markdown",
   "id": "5a8cc9b8-a346-49cf-8f08-809967ad2112",
   "metadata": {},
   "source": [
    "## Q5. How can we create a pool of worker processes in python using the multiprocessing module?"
   ]
  },
  {
   "cell_type": "code",
   "execution_count": 8,
   "id": "9b6292b7-be6d-4863-baa5-761582f37baa",
   "metadata": {},
   "outputs": [
    {
     "name": "stdout",
     "output_type": "stream",
     "text": [
      "[1, 9, 36, 49]\n"
     ]
    }
   ],
   "source": [
    "import multiprocessing\n",
    "def test1(n):\n",
    "    return n**2\n",
    "if __name__=='__main__':\n",
    "    with multiprocessing.Pool() as p:\n",
    "        numbers=[1,3,6,7]\n",
    "        result=p.map(test1,numbers)\n",
    "        print(result)"
   ]
  },
  {
   "cell_type": "markdown",
   "id": "487fbedb-86f5-44a6-afd4-28579088abbd",
   "metadata": {},
   "source": [
    "## Q6. Write a python program to create 4 processes, each process should print a different number using the multiprocessing module in python."
   ]
  },
  {
   "cell_type": "code",
   "execution_count": 14,
   "id": "e2803196-d089-42bc-a31a-db549318ab50",
   "metadata": {},
   "outputs": [
    {
     "name": "stdout",
     "output_type": "stream",
     "text": [
      "Process printing 1 completed\n",
      "Process printing 2 completed\n",
      "Process printing 3 completed\n",
      "Process printing 4 completed\n",
      "All processes completed\n"
     ]
    }
   ],
   "source": [
    "import multiprocessing\n",
    "\n",
    "def print_number(num):\n",
    "    \"\"\" A simple function that prints a number \"\"\"\n",
    "    print(\"Process printing {} completed\".format(num))\n",
    "\n",
    "if __name__ == \"__main__\":\n",
    "    # Create 4 new processes\n",
    "    processes = [multiprocessing.Process(target=print_number, args=(i,)) for i in range(1,5)]\n",
    "\n",
    "    # Start the processes\n",
    "    for p in processes:\n",
    "        p.start()\n",
    "\n",
    "    # Wait for the processes to finish\n",
    "    for p in processes:\n",
    "        p.join()\n",
    "\n",
    "    print(\"All processes completed\")\n"
   ]
  }
 ],
 "metadata": {
  "kernelspec": {
   "display_name": "Python 3 (ipykernel)",
   "language": "python",
   "name": "python3"
  },
  "language_info": {
   "codemirror_mode": {
    "name": "ipython",
    "version": 3
   },
   "file_extension": ".py",
   "mimetype": "text/x-python",
   "name": "python",
   "nbconvert_exporter": "python",
   "pygments_lexer": "ipython3",
   "version": "3.10.8"
  }
 },
 "nbformat": 4,
 "nbformat_minor": 5
}

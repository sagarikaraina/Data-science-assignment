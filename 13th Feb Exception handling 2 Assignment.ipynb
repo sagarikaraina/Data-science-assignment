{
 "cells": [
  {
   "cell_type": "markdown",
   "id": "8ae4a77a-84d9-417f-ae80-c4a8e466a142",
   "metadata": {},
   "source": [
    "## Q1. Explain why we have to use the Exception class while creating a Custom Exception."
   ]
  },
  {
   "cell_type": "markdown",
   "id": "1502ed24-0bf7-4d9c-9775-22b9d3be95c8",
   "metadata": {},
   "source": [
    "* Exception class is the root class for all exceptions in Python.Inheriting exception class by custom exception class ensures that all methods and fields present in exception class are available to the custom class for proper exception handling.\n",
    "* This ensures that the custom exception is consistent, easy to handle, and can be caught by Python's built-in error handling mechanisms. \n",
    "* It also makes your code more clear and maintainable for others to read and understand."
   ]
  },
  {
   "cell_type": "markdown",
   "id": "5415741d-abbc-4981-adb4-c394faa30455",
   "metadata": {},
   "source": [
    "## Q2. Write a python program to print Python Exception Hierarchy."
   ]
  },
  {
   "cell_type": "code",
   "execution_count": 8,
   "id": "d7bd8cc0-d784-42ce-a0b0-8d71ebe3c8e7",
   "metadata": {},
   "outputs": [
    {
     "name": "stdout",
     "output_type": "stream",
     "text": [
      "ArithmeticError\n",
      "AssertionError\n",
      "AttributeError\n",
      "BaseException\n",
      "BlockingIOError\n",
      "BrokenPipeError\n",
      "BufferError\n",
      "BytesWarning\n",
      "ChildProcessError\n",
      "ConnectionAbortedError\n",
      "ConnectionError\n",
      "ConnectionRefusedError\n",
      "ConnectionResetError\n",
      "DeprecationWarning\n",
      "EOFError\n",
      "EncodingWarning\n",
      "EnvironmentError\n",
      "Exception\n",
      "FileExistsError\n",
      "FileNotFoundError\n",
      "FloatingPointError\n",
      "FutureWarning\n",
      "GeneratorExit\n",
      "IOError\n",
      "ImportError\n",
      "ImportWarning\n",
      "IndentationError\n",
      "IndexError\n",
      "InterruptedError\n",
      "IsADirectoryError\n",
      "KeyError\n",
      "KeyboardInterrupt\n",
      "LookupError\n",
      "MemoryError\n",
      "ModuleNotFoundError\n",
      "NameError\n",
      "NotADirectoryError\n",
      "NotImplementedError\n",
      "OSError\n",
      "OverflowError\n",
      "PendingDeprecationWarning\n",
      "PermissionError\n",
      "ProcessLookupError\n",
      "RecursionError\n",
      "ReferenceError\n",
      "ResourceWarning\n",
      "RuntimeError\n",
      "RuntimeWarning\n",
      "StopAsyncIteration\n",
      "StopIteration\n",
      "SyntaxError\n",
      "SyntaxWarning\n",
      "SystemError\n",
      "SystemExit\n",
      "TabError\n",
      "TimeoutError\n",
      "TypeError\n",
      "UnboundLocalError\n",
      "UnicodeDecodeError\n",
      "UnicodeEncodeError\n",
      "UnicodeError\n",
      "UnicodeTranslateError\n",
      "UnicodeWarning\n",
      "UserWarning\n",
      "ValueError\n",
      "Warning\n",
      "ZeroDivisionError\n"
     ]
    }
   ],
   "source": [
    "import inspect\n",
    "\n",
    "# get all exception classes in the built-in module\n",
    "exception_classes = inspect.getmembers(__builtins__, inspect.isclass)\n",
    "\n",
    "# print the exception hierarchy\n",
    "for name, obj in exception_classes:\n",
    "    if issubclass(obj, BaseException):\n",
    "        print(name)"
   ]
  },
  {
   "cell_type": "markdown",
   "id": "987a27db-73d6-4e6e-ae09-d44e389f5bf7",
   "metadata": {},
   "source": [
    "## Q3. What errors are defined in the ArithmeticError class? Explain any two with an example."
   ]
  },
  {
   "cell_type": "markdown",
   "id": "9a058bee-57f5-4789-afc0-11c19c2f5642",
   "metadata": {},
   "source": [
    "* The ArithmeticError class is the base class for exceptions that occur during arithmetic operations in Python.\n",
    "1. ZeroDivisionError: This exception is raised when a division or modulo operation is attempted with a divisor of zero\n",
    "2. IndexError: This exception is raised when an index is out of range in a sequence (such as a list or a tuple)\n",
    "3. TypeError: This exception is raised when an operation or function is applied to an object of inappropriate type"
   ]
  },
  {
   "cell_type": "code",
   "execution_count": 3,
   "id": "8c99229b-b05e-44fc-9daf-abb807c48c7b",
   "metadata": {},
   "outputs": [
    {
     "ename": "ZeroDivisionError",
     "evalue": "division by zero",
     "output_type": "error",
     "traceback": [
      "\u001b[0;31m---------------------------------------------------------------------------\u001b[0m",
      "\u001b[0;31mZeroDivisionError\u001b[0m                         Traceback (most recent call last)",
      "Cell \u001b[0;32mIn[3], line 2\u001b[0m\n\u001b[1;32m      1\u001b[0m \u001b[38;5;66;03m## 1.ZeroDivisionError\u001b[39;00m\n\u001b[0;32m----> 2\u001b[0m x \u001b[38;5;241m=\u001b[39m \u001b[38;5;241;43m1\u001b[39;49m\u001b[43m \u001b[49m\u001b[38;5;241;43m/\u001b[39;49m\u001b[43m \u001b[49m\u001b[38;5;241;43m0\u001b[39;49m\n",
      "\u001b[0;31mZeroDivisionError\u001b[0m: division by zero"
     ]
    }
   ],
   "source": [
    "## 1.ZeroDivisionError\n",
    "x = 1 / 0"
   ]
  },
  {
   "cell_type": "code",
   "execution_count": 4,
   "id": "61babdc4-bc8a-42f3-b5e5-d3e6c24a84f1",
   "metadata": {},
   "outputs": [
    {
     "ename": "IndexError",
     "evalue": "list index out of range",
     "output_type": "error",
     "traceback": [
      "\u001b[0;31m---------------------------------------------------------------------------\u001b[0m",
      "\u001b[0;31mIndexError\u001b[0m                                Traceback (most recent call last)",
      "Cell \u001b[0;32mIn[4], line 3\u001b[0m\n\u001b[1;32m      1\u001b[0m \u001b[38;5;66;03m# 2.IndexError\u001b[39;00m\n\u001b[1;32m      2\u001b[0m my_list \u001b[38;5;241m=\u001b[39m [\u001b[38;5;241m1\u001b[39m, \u001b[38;5;241m2\u001b[39m, \u001b[38;5;241m3\u001b[39m]\n\u001b[0;32m----> 3\u001b[0m \u001b[38;5;28mprint\u001b[39m(\u001b[43mmy_list\u001b[49m\u001b[43m[\u001b[49m\u001b[38;5;241;43m3\u001b[39;49m\u001b[43m]\u001b[49m)\n",
      "\u001b[0;31mIndexError\u001b[0m: list index out of range"
     ]
    }
   ],
   "source": [
    "# 2.IndexError\n",
    "my_list = [1, 2, 3]\n",
    "print(my_list[3])"
   ]
  },
  {
   "cell_type": "code",
   "execution_count": 5,
   "id": "d7114da8-34ea-4182-ae94-26b9ea1d092d",
   "metadata": {},
   "outputs": [
    {
     "ename": "TypeError",
     "evalue": "can only concatenate list (not \"int\") to list",
     "output_type": "error",
     "traceback": [
      "\u001b[0;31m---------------------------------------------------------------------------\u001b[0m",
      "\u001b[0;31mTypeError\u001b[0m                                 Traceback (most recent call last)",
      "Cell \u001b[0;32mIn[5], line 3\u001b[0m\n\u001b[1;32m      1\u001b[0m \u001b[38;5;66;03m# 3.TypeError\u001b[39;00m\n\u001b[1;32m      2\u001b[0m my_list \u001b[38;5;241m=\u001b[39m [\u001b[38;5;241m1\u001b[39m, \u001b[38;5;241m2\u001b[39m, \u001b[38;5;241m3\u001b[39m]\n\u001b[0;32m----> 3\u001b[0m \u001b[43mmy_list\u001b[49m\u001b[43m \u001b[49m\u001b[38;5;241;43m+\u001b[39;49m\u001b[43m \u001b[49m\u001b[38;5;241;43m4\u001b[39;49m\n",
      "\u001b[0;31mTypeError\u001b[0m: can only concatenate list (not \"int\") to list"
     ]
    }
   ],
   "source": [
    "# 3.TypeError\n",
    "my_list = [1, 2, 3]\n",
    "my_list + 4"
   ]
  },
  {
   "cell_type": "markdown",
   "id": "2c5e1b8d-9ce9-45d7-9776-89220dc51023",
   "metadata": {},
   "source": [
    "## Q4. Why LookupError class is used? Explain with an example KeyError and IndexError."
   ]
  },
  {
   "cell_type": "markdown",
   "id": "f6473fe5-0c1e-4c43-ac05-c492fc11cc83",
   "metadata": {},
   "source": [
    "* The LookupError class is used as the base class for exceptions that occur when an invalid key or index is used to access a mapping or sequence object in Python. \n",
    "* It is a subclass of the Exception class, and is itself a superclass of the more specific KeyError and IndexError exception classes. "
   ]
  },
  {
   "cell_type": "markdown",
   "id": "a1089e63-6da9-4aa1-bad0-be2e7cc37ec9",
   "metadata": {},
   "source": [
    "1. KeyError: This exception is raised when a dictionary key is not found in a mapping object. For example:"
   ]
  },
  {
   "cell_type": "code",
   "execution_count": 2,
   "id": "03e24c90-63f5-4d3a-b5ec-d418c5a3002b",
   "metadata": {},
   "outputs": [
    {
     "ename": "KeyError",
     "evalue": "'d'",
     "output_type": "error",
     "traceback": [
      "\u001b[0;31m---------------------------------------------------------------------------\u001b[0m",
      "\u001b[0;31mKeyError\u001b[0m                                  Traceback (most recent call last)",
      "Cell \u001b[0;32mIn[2], line 2\u001b[0m\n\u001b[1;32m      1\u001b[0m my_dict \u001b[38;5;241m=\u001b[39m {\u001b[38;5;124m\"\u001b[39m\u001b[38;5;124ma\u001b[39m\u001b[38;5;124m\"\u001b[39m: \u001b[38;5;241m1\u001b[39m, \u001b[38;5;124m\"\u001b[39m\u001b[38;5;124mb\u001b[39m\u001b[38;5;124m\"\u001b[39m: \u001b[38;5;241m2\u001b[39m, \u001b[38;5;124m\"\u001b[39m\u001b[38;5;124mc\u001b[39m\u001b[38;5;124m\"\u001b[39m: \u001b[38;5;241m3\u001b[39m}\n\u001b[0;32m----> 2\u001b[0m \u001b[38;5;28mprint\u001b[39m(\u001b[43mmy_dict\u001b[49m\u001b[43m[\u001b[49m\u001b[38;5;124;43m\"\u001b[39;49m\u001b[38;5;124;43md\u001b[39;49m\u001b[38;5;124;43m\"\u001b[39;49m\u001b[43m]\u001b[49m)\n",
      "\u001b[0;31mKeyError\u001b[0m: 'd'"
     ]
    }
   ],
   "source": [
    "my_dict = {\"a\": 1, \"b\": 2, \"c\": 3}\n",
    "print(my_dict[\"d\"])"
   ]
  },
  {
   "cell_type": "markdown",
   "id": "f965ecc4-80f9-4b09-9f18-5de2970c160f",
   "metadata": {},
   "source": [
    "2. IndexError: This exception is raised when an index is out of range in a sequence (such as a list or a tuple)."
   ]
  },
  {
   "cell_type": "code",
   "execution_count": 3,
   "id": "486ec039-619d-4918-ba4d-d4df70cb7dac",
   "metadata": {},
   "outputs": [
    {
     "ename": "IndexError",
     "evalue": "list index out of range",
     "output_type": "error",
     "traceback": [
      "\u001b[0;31m---------------------------------------------------------------------------\u001b[0m",
      "\u001b[0;31mIndexError\u001b[0m                                Traceback (most recent call last)",
      "Cell \u001b[0;32mIn[3], line 2\u001b[0m\n\u001b[1;32m      1\u001b[0m my_list \u001b[38;5;241m=\u001b[39m [\u001b[38;5;241m1\u001b[39m, \u001b[38;5;241m2\u001b[39m, \u001b[38;5;241m3\u001b[39m]\n\u001b[0;32m----> 2\u001b[0m \u001b[38;5;28mprint\u001b[39m(\u001b[43mmy_list\u001b[49m\u001b[43m[\u001b[49m\u001b[38;5;241;43m3\u001b[39;49m\u001b[43m]\u001b[49m)\n",
      "\u001b[0;31mIndexError\u001b[0m: list index out of range"
     ]
    }
   ],
   "source": [
    "my_list = [1, 2, 3]\n",
    "print(my_list[3])"
   ]
  },
  {
   "cell_type": "markdown",
   "id": "fee72c7e-f0dc-4a6f-a487-a7449f8446fb",
   "metadata": {},
   "source": [
    "## Q5. Explain ImportError. What is ModuleNotFoundError?"
   ]
  },
  {
   "cell_type": "markdown",
   "id": "d47206cf-159b-4679-8497-edc5c6766770",
   "metadata": {},
   "source": [
    "* ImportError is a built-in Python exception that is raised when an imported module or module member cannot be found or loaded. This can happen for several reasons, such as the module being misspelled or not installed, or the module's code having an error that prevents it from being imported correctly\n",
    "\n",
    "* In Python 3.6 and later, there is also a more specific exception class called ModuleNotFoundError, which is a subclass of ImportError. This exception is raised when a module is not found, and it provides a clearer error message than the generic ImportError.\n",
    "\n",
    "ImportError is a general exception that is raised when an import fails, while ModuleNotFoundError is a more specific exception that is raised when a module is not found."
   ]
  },
  {
   "cell_type": "code",
   "execution_count": 6,
   "id": "cb9775a5-a86f-46b3-899b-b752d111c154",
   "metadata": {},
   "outputs": [
    {
     "ename": "ModuleNotFoundError",
     "evalue": "No module named 'some_module_that_does_not_exist'",
     "output_type": "error",
     "traceback": [
      "\u001b[0;31m---------------------------------------------------------------------------\u001b[0m",
      "\u001b[0;31mModuleNotFoundError\u001b[0m                       Traceback (most recent call last)",
      "Cell \u001b[0;32mIn[6], line 1\u001b[0m\n\u001b[0;32m----> 1\u001b[0m \u001b[38;5;28;01mfrom\u001b[39;00m \u001b[38;5;21;01msome_module_that_does_not_exist\u001b[39;00m \u001b[38;5;28;01mimport\u001b[39;00m some_function\n",
      "\u001b[0;31mModuleNotFoundError\u001b[0m: No module named 'some_module_that_does_not_exist'"
     ]
    }
   ],
   "source": [
    "from some_module_that_does_not_exist import some_function"
   ]
  },
  {
   "cell_type": "markdown",
   "id": "f2a80348-8b98-440e-8ed7-d51cd7e844b6",
   "metadata": {},
   "source": [
    "## Q6. List down some best practices for exception handling in python."
   ]
  },
  {
   "cell_type": "markdown",
   "id": "1696f0e9-5a7d-4557-86f7-53f435029445",
   "metadata": {},
   "source": [
    "1. Catch the right exception: Catch only the exceptions that you are expecting and that you can handle. Catching too many exceptions can lead to unintended behavior, and catching too few can lead to unhandled exceptions.\n",
    "\n",
    "2. Use multiple except blocks for multiple exception: When catching multiple exceptions, use separate except blocks for each exception, rather than catching them all in a single block. This makes the code more readable and helps to avoid catching the wrong exceptions.\n",
    "\n",
    "3. Use try/finally blocks: Use finally blocks to ensure that any resources that were opened during the try block are properly closed or released, even if an exception is raised.\n",
    "\n",
    "4. Avoid using bare except blocks: Avoid using except: blocks, as this catches all exceptions, including system-level exceptions such as KeyboardInterrupt or SystemExit. Instead, catch only the specific exceptions that you are expecting.\n",
    "\n",
    "5. Log exceptions: Use logging to record exceptions, along with any relevant information about the exception. This makes it easier to diagnose and fix issues, and can also help with debugging.\n",
    "\n",
    "6. Raise exceptions: Raise exceptions when appropriate, rather than returning error codes or using other methods to signal errors. This makes it easier to handle errors consistently across the codebase, and also allows for more detailed error messages."
   ]
  }
 ],
 "metadata": {
  "kernelspec": {
   "display_name": "Python 3 (ipykernel)",
   "language": "python",
   "name": "python3"
  },
  "language_info": {
   "codemirror_mode": {
    "name": "ipython",
    "version": 3
   },
   "file_extension": ".py",
   "mimetype": "text/x-python",
   "name": "python",
   "nbconvert_exporter": "python",
   "pygments_lexer": "ipython3",
   "version": "3.10.8"
  }
 },
 "nbformat": 4,
 "nbformat_minor": 5
}

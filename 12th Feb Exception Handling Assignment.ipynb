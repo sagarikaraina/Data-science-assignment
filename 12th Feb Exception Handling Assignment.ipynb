{
 "cells": [
  {
   "cell_type": "markdown",
   "id": "fc587ff3-12cf-43ae-b9a7-8d2704ba5792",
   "metadata": {},
   "source": [
    "## Q1. What is an Exception in Python? Write the difference between Exceptions and syntax errors"
   ]
  },
  {
   "cell_type": "markdown",
   "id": "52610328-3345-457c-a1dc-170052dd23fc",
   "metadata": {},
   "source": [
    "* Exceptions-errors that occur during execution of the code.\n",
    "* Syntax errors-occur due to problems in structure of the code.\n",
    "### Difference\n",
    "* Syntax errors are detected by compiler at compile-time whereas exceptions are detected at run-time\n",
    "* Syntax errors occurs due to violation of programming language rules whereas exceptions are caused by unexpected situations that arise at runtime\n",
    "* Syntax errors prevent the program from execution whereas exceptions are handled in a way that allows the program to continue running"
   ]
  },
  {
   "cell_type": "markdown",
   "id": "8ded86a9-48aa-485f-a538-dbc92ed23735",
   "metadata": {},
   "source": [
    "## Q2. What happens when an exception is not handled? Explain with an example."
   ]
  },
  {
   "cell_type": "markdown",
   "id": "8e3da2b0-f322-4fd6-99d9-eab85c4b12f9",
   "metadata": {},
   "source": [
    "* When an exception is not handled then the program terminates abnormally throwing an error.\n",
    "* It also terminates the execution of subsequent code.\n",
    "* This can make it difficult to identify the root cause of the problem and may lead to data corruption, loss of data, or other unintended consequences."
   ]
  },
  {
   "cell_type": "code",
   "execution_count": 3,
   "id": "f435578f-8d2e-4113-a5a6-b36c996dc8df",
   "metadata": {},
   "outputs": [
    {
     "ename": "ZeroDivisionError",
     "evalue": "division by zero",
     "output_type": "error",
     "traceback": [
      "\u001b[0;31m---------------------------------------------------------------------------\u001b[0m",
      "\u001b[0;31mZeroDivisionError\u001b[0m                         Traceback (most recent call last)",
      "Cell \u001b[0;32mIn[3], line 3\u001b[0m\n\u001b[1;32m      1\u001b[0m x \u001b[38;5;241m=\u001b[39m \u001b[38;5;241m10\u001b[39m\n\u001b[1;32m      2\u001b[0m y \u001b[38;5;241m=\u001b[39m \u001b[38;5;241m0\u001b[39m\n\u001b[0;32m----> 3\u001b[0m z \u001b[38;5;241m=\u001b[39m \u001b[43mx\u001b[49m\u001b[43m \u001b[49m\u001b[38;5;241;43m/\u001b[39;49m\u001b[43m \u001b[49m\u001b[43my\u001b[49m\n\u001b[1;32m      4\u001b[0m \u001b[38;5;28mprint\u001b[39m(z)\n",
      "\u001b[0;31mZeroDivisionError\u001b[0m: division by zero"
     ]
    }
   ],
   "source": [
    "x = 10\n",
    "y = 0\n",
    "z = x / y\n",
    "print(z)"
   ]
  },
  {
   "cell_type": "markdown",
   "id": "a2e1f39e-965f-4684-80f7-b5db457c8db2",
   "metadata": {},
   "source": [
    "If we don't handle this exception using a try-except block or some other mechanism, the program will terminate at this point, and any subsequent code will not be executed."
   ]
  },
  {
   "cell_type": "code",
   "execution_count": 5,
   "id": "f5207ce7-67d4-4707-b289-52b9f556b9ca",
   "metadata": {},
   "outputs": [
    {
     "name": "stdout",
     "output_type": "stream",
     "text": [
      "Cannot divide by zero\n"
     ]
    }
   ],
   "source": [
    "x = 10\n",
    "y = 0\n",
    "try:\n",
    "    z = x / y\n",
    "except ZeroDivisionError:\n",
    "    print(\"Cannot divide by zero\")"
   ]
  },
  {
   "cell_type": "markdown",
   "id": "694529e1-66a9-4a4f-9072-1d6c84b9545a",
   "metadata": {},
   "source": [
    "If an exception is raised, the program will execute the code in the except block, which in this case will print a message to the console. This allows the program to continue running, even if an exception occurs, and provides a way to handle the exception in a more graceful manner."
   ]
  },
  {
   "cell_type": "markdown",
   "id": "7f2f5d3d-8f8f-46ff-bab5-c8739e8fa270",
   "metadata": {},
   "source": [
    "## Q3. Which Python statements are used to catch and handle exceptions? Explain with an example."
   ]
  },
  {
   "cell_type": "markdown",
   "id": "fde17d9b-edc9-4bb9-bf96-f0ec1216c5fe",
   "metadata": {},
   "source": [
    "The try and except statements are used to catch and handle exceptions. The try block contains the code that might raise an exception, while the except block contains the code that will handle the exception if it occurs."
   ]
  },
  {
   "cell_type": "code",
   "execution_count": 7,
   "id": "684f5a39-861a-496c-aa17-ca53392136dd",
   "metadata": {},
   "outputs": [
    {
     "name": "stdout",
     "output_type": "stream",
     "text": [
      "This is a ZeroDivision Error\n"
     ]
    }
   ],
   "source": [
    "try :\n",
    "    1/0\n",
    "except Exception as e:\n",
    "    print('This is a ZeroDivision Error')"
   ]
  },
  {
   "cell_type": "markdown",
   "id": "93f16ee1-421e-4cda-b900-f61e2db78e3e",
   "metadata": {},
   "source": [
    "## Q4. Explain with an example:\n",
    "### 1. try and else\n",
    "### 2. finally\n",
    "### 3. raise"
   ]
  },
  {
   "cell_type": "code",
   "execution_count": 9,
   "id": "3e69659d-482c-43ca-9294-63ebdb493094",
   "metadata": {},
   "outputs": [
    {
     "name": "stdout",
     "output_type": "stream",
     "text": [
      "Hi\n"
     ]
    }
   ],
   "source": [
    "# 1.try and else\n",
    "try:\n",
    "    file=open('t.txt','w')\n",
    "    file.write('Hi')\n",
    "except Exception as e:\n",
    "    print(e)\n",
    "else:\n",
    "    file.close()\n",
    "    with open('t.txt','r') as f:\n",
    "        print(f.read())"
   ]
  },
  {
   "cell_type": "code",
   "execution_count": 10,
   "id": "6d8560b5-b8ee-4338-ae13-58dff83b001e",
   "metadata": {},
   "outputs": [
    {
     "name": "stdout",
     "output_type": "stream",
     "text": [
      "This block prints irrespective of any exception\n"
     ]
    },
    {
     "ename": "ZeroDivisionError",
     "evalue": "division by zero",
     "output_type": "error",
     "traceback": [
      "\u001b[0;31m---------------------------------------------------------------------------\u001b[0m",
      "\u001b[0;31mZeroDivisionError\u001b[0m                         Traceback (most recent call last)",
      "Cell \u001b[0;32mIn[10], line 3\u001b[0m\n\u001b[1;32m      1\u001b[0m \u001b[38;5;66;03m# 2.finally\u001b[39;00m\n\u001b[1;32m      2\u001b[0m \u001b[38;5;28;01mtry\u001b[39;00m:\n\u001b[0;32m----> 3\u001b[0m     \u001b[38;5;241;43m1\u001b[39;49m\u001b[38;5;241;43m/\u001b[39;49m\u001b[38;5;241;43m0\u001b[39;49m\n\u001b[1;32m      4\u001b[0m \u001b[38;5;28;01mfinally\u001b[39;00m:\n\u001b[1;32m      5\u001b[0m     \u001b[38;5;28mprint\u001b[39m(\u001b[38;5;124m'\u001b[39m\u001b[38;5;124mThis block prints irrespective of any exception\u001b[39m\u001b[38;5;124m'\u001b[39m)\n",
      "\u001b[0;31mZeroDivisionError\u001b[0m: division by zero"
     ]
    }
   ],
   "source": [
    "# 2.finally\n",
    "try:\n",
    "    1/0\n",
    "finally:\n",
    "    print('This block prints irrespective of any exception')"
   ]
  },
  {
   "cell_type": "markdown",
   "id": "b6ac6190-48a1-4bf7-a5b3-9cc148055579",
   "metadata": {},
   "source": [
    "3.raise statement is used to explicitly raise an exception. This can be useful in situations where we want to handle an error in a specific way or provide more detailed information about the error."
   ]
  },
  {
   "cell_type": "code",
   "execution_count": 9,
   "id": "680e419e-290c-4a8f-8d8e-01a680fc341d",
   "metadata": {},
   "outputs": [],
   "source": [
    "#3.raise stmt\n",
    "class validateage(Exception):                             #custom exception class\n",
    "    def __init__(self,msg):\n",
    "        self.msg=msg\n",
    "def age(a):\n",
    "    if a<0:\n",
    "        raise validateage('Invalid age')                  \n"
   ]
  },
  {
   "cell_type": "code",
   "execution_count": 10,
   "id": "dcfde882-9449-4161-b787-85ca980c654c",
   "metadata": {},
   "outputs": [
    {
     "name": "stdin",
     "output_type": "stream",
     "text": [
      " -8\n"
     ]
    },
    {
     "name": "stdout",
     "output_type": "stream",
     "text": [
      "Invalid age\n"
     ]
    }
   ],
   "source": [
    "try:\n",
    "    age_user=int(input())\n",
    "    age(age_user)\n",
    "except Exception as e:\n",
    "    print(e)"
   ]
  },
  {
   "cell_type": "markdown",
   "id": "b42745d8-a5c0-4665-a570-2930d8510d28",
   "metadata": {},
   "source": [
    "## Q5. What are Custom Exceptions in python? What do we need Custom Exceptions? Explain with an example."
   ]
  },
  {
   "cell_type": "markdown",
   "id": "40465f65-ab43-47c3-9029-1ee246189f1b",
   "metadata": {},
   "source": [
    "*  We can create custom exceptions by defining a new class that inherits from the built-in Exception class or one of its subclasses. \n",
    "* Custom exceptions can be useful in situations where we want to provide more detailed information about an error or create a more specific type of error that is not already covered by the built-in exception classes."
   ]
  },
  {
   "cell_type": "code",
   "execution_count": 11,
   "id": "90aaadc8-7b02-4018-b4b3-7512b33c06e3",
   "metadata": {},
   "outputs": [],
   "source": [
    "class validatecourse(Exception):\n",
    "    def __init__(self,msg):\n",
    "        self.msg=msg"
   ]
  },
  {
   "cell_type": "code",
   "execution_count": 12,
   "id": "6ffbab12-1db0-4df0-874c-6c7b285f9a3a",
   "metadata": {},
   "outputs": [],
   "source": [
    "def course(course_name):\n",
    "    if course_name!='Data Science':\n",
    "        raise validatecourse('This course is for data science students only')"
   ]
  },
  {
   "cell_type": "code",
   "execution_count": 14,
   "id": "13df2736-fa07-4497-80ab-33fbae073227",
   "metadata": {},
   "outputs": [
    {
     "name": "stdin",
     "output_type": "stream",
     "text": [
      "enter course g\n"
     ]
    },
    {
     "name": "stdout",
     "output_type": "stream",
     "text": [
      "g\n",
      "Error:  This course is for data science students only\n"
     ]
    }
   ],
   "source": [
    "try:\n",
    "    user_input=print(input('enter course'))\n",
    "    course(user_input)\n",
    "except validatecourse as e:\n",
    "    print('Error: ',e)"
   ]
  },
  {
   "cell_type": "markdown",
   "id": "b1b1ca6b-07d8-4b2d-bb4a-f3ec82dd02dd",
   "metadata": {},
   "source": [
    "* In this example, we are defining a new custom exception class called validatecourse. This class inherits from the built-in Exception class and defines a constructor that takes one argument, input_value. This argument is used to create a custom error message that includes the invalid input value.We can raise this exception by providing invalid user_input(invalid coursename) which invokes validatecourse exception class and prints the error message"
   ]
  },
  {
   "cell_type": "markdown",
   "id": "b5d781b7-8937-48d5-981e-cbcfedd057d8",
   "metadata": {},
   "source": [
    "## Q6. Create custom exception class. Use this class to handle an exception."
   ]
  },
  {
   "cell_type": "code",
   "execution_count": 15,
   "id": "af9f6184-6b60-4a98-82a9-ea28ceb2566d",
   "metadata": {},
   "outputs": [],
   "source": [
    "class InvalidInputError(Exception):\n",
    "    def __init__(self, input_value):\n",
    "        self.input_value = input_value\n",
    "        self.message = f\"Invalid input: {input_value}\"\n",
    "        super().__init__(self.message)"
   ]
  },
  {
   "cell_type": "code",
   "execution_count": 16,
   "id": "2e8dafb7-2ed0-446b-bfd7-c37f37420d4e",
   "metadata": {},
   "outputs": [],
   "source": [
    "def process_input(input_value):\n",
    "    if input_value < 0 or input_value > 100:\n",
    "        raise InvalidInputError(input_value)\n",
    "    # process the input value"
   ]
  },
  {
   "cell_type": "code",
   "execution_count": 17,
   "id": "a0137659-75eb-46a8-bcc6-869a604010b1",
   "metadata": {},
   "outputs": [
    {
     "name": "stdout",
     "output_type": "stream",
     "text": [
      "Error: Invalid input: 200\n"
     ]
    }
   ],
   "source": [
    "try:\n",
    "    process_input(200)\n",
    "except InvalidInputError as e:\n",
    "    print(\"Error:\", e)"
   ]
  }
 ],
 "metadata": {
  "kernelspec": {
   "display_name": "Python 3 (ipykernel)",
   "language": "python",
   "name": "python3"
  },
  "language_info": {
   "codemirror_mode": {
    "name": "ipython",
    "version": 3
   },
   "file_extension": ".py",
   "mimetype": "text/x-python",
   "name": "python",
   "nbconvert_exporter": "python",
   "pygments_lexer": "ipython3",
   "version": "3.10.8"
  }
 },
 "nbformat": 4,
 "nbformat_minor": 5
}

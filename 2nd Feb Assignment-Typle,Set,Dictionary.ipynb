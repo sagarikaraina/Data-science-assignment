{
 "cells": [
  {
   "cell_type": "markdown",
   "id": "8229ba16-ea6e-4d0f-bf69-18bb396cbded",
   "metadata": {},
   "source": [
    "### Q1. What are the characteristics of the tuples? Is tuple immutable? \n",
    "* Represented by parentheses: Tuples are defined using parentheses,with elements separated by commas \n",
    "* Ordered:Tuples are ordered collection of elements which can be accessed by indexing\n",
    "* Used for grouping data: Tuples are often used to group related data together into a single object\n",
    "* Supports all datatypes:Different datatypes like string,int,list,set can be stored in a tuple\n",
    "* Splicing:Splicing of tuple is possible to retrieve desired elements\n",
    "* Immutable:Elements in a tuple cannot be changed."
   ]
  },
  {
   "cell_type": "markdown",
   "id": "b696d7c6-6e7d-4c7c-9fe2-a511c47f2031",
   "metadata": {},
   "source": [
    "### Q2. What are the two tuple methods in python? Give an example of each method. Give a reason why  tuples have only two in-built methods as compared to Lists\n",
    "* count()-counts the number of occurences of the element in the tuple\n",
    "* index()-returns first index of the value\n",
    "\n",
    "Since tuples are immutable, they do not need the same range of in built methods as lists, which are mutable. For example, there is no need for methods to modify the contents of a tuple, since this is not required in a tuple."
   ]
  },
  {
   "cell_type": "markdown",
   "id": "7ab72fa0-aeee-4666-8b5e-ada4119ea80e",
   "metadata": {},
   "source": [
    "#### Example of count()"
   ]
  },
  {
   "cell_type": "code",
   "execution_count": 10,
   "id": "fd09ae16-825a-4342-ac29-44f9ef5f170c",
   "metadata": {},
   "outputs": [
    {
     "data": {
      "text/plain": [
       "(1, 2, 4, 'sagarika', 'raina', 'raina', 'sparsh')"
      ]
     },
     "execution_count": 10,
     "metadata": {},
     "output_type": "execute_result"
    }
   ],
   "source": [
    "t=(1,2,4,\"sagarika\",\"raina\",\"raina\",\"sparsh\")\n",
    "t"
   ]
  },
  {
   "cell_type": "code",
   "execution_count": 13,
   "id": "8992c605-a616-48b3-a2a6-839a8dc4fdf0",
   "metadata": {},
   "outputs": [
    {
     "data": {
      "text/plain": [
       "2"
      ]
     },
     "execution_count": 13,
     "metadata": {},
     "output_type": "execute_result"
    }
   ],
   "source": [
    "t.count(\"raina\")"
   ]
  },
  {
   "cell_type": "markdown",
   "id": "3bfe601d-ddf8-4dfc-93e8-514b72d77e74",
   "metadata": {},
   "source": [
    "#### Example of index()"
   ]
  },
  {
   "cell_type": "code",
   "execution_count": 12,
   "id": "3139214f-a3b8-495e-b62c-b97abc19ea73",
   "metadata": {},
   "outputs": [
    {
     "data": {
      "text/plain": [
       "4"
      ]
     },
     "execution_count": 12,
     "metadata": {},
     "output_type": "execute_result"
    }
   ],
   "source": [
    "t.index('raina')"
   ]
  },
  {
   "cell_type": "markdown",
   "id": "36f8a113-5d9d-4fa5-b4a9-dd168cb68273",
   "metadata": {},
   "source": [
    "### Q3.  Which collection datatypes in python do not allow duplicate items? Write a code using a set to remove  duplicates from the given list. \n",
    "List = [1, 1, 1, 2, 1, 3, 1, 4, 2, 1, 2, 2, 2, 3, 2, 4, 3, 1, 3, 2, 3, 3, 3, 4, 4, 1, 4, 2, 4, 3, 4, 4] \n"
   ]
  },
  {
   "cell_type": "markdown",
   "id": "62c29fd6-3479-47b1-8fef-65be77ab80f9",
   "metadata": {},
   "source": [
    "* Set collection does not allow duplicate values"
   ]
  },
  {
   "cell_type": "code",
   "execution_count": 17,
   "id": "d91f8d42-275f-42c4-a962-2f5a0ccfdf83",
   "metadata": {},
   "outputs": [
    {
     "data": {
      "text/plain": [
       "{1, 2, 3, 4}"
      ]
     },
     "execution_count": 17,
     "metadata": {},
     "output_type": "execute_result"
    }
   ],
   "source": [
    "list1= [1, 1, 1, 2, 1, 3, 1, 4, 2, 1, 2, 2, 2, 3, 2, 4, 3, 1, 3, 2, 3, 3, 3, 4, 4, 1, 4, 2, 4, 3, 4, 4] \n",
    "set(list1)"
   ]
  },
  {
   "cell_type": "markdown",
   "id": "0e29c701-b6bd-4497-aa5a-2bc6754e65ed",
   "metadata": {},
   "source": [
    "### Q4. Explain the difference between the union() and update() methods for a set. Give an example of each method.\n",
    "* union() - returns a new set with union of elements in both sets\n",
    "* update() - updates original set  elements to include elements of other set "
   ]
  },
  {
   "cell_type": "code",
   "execution_count": 26,
   "id": "7bcfa9ed-2763-41d7-bedf-a1dfefec6229",
   "metadata": {},
   "outputs": [
    {
     "name": "stdout",
     "output_type": "stream",
     "text": [
      "set3= {1, 2, 3, 4, 5, 6, 7, 8}\n",
      "set1= {1, 2, 3, 4}\n",
      "set2= {8, 5, 6, 7}\n"
     ]
    }
   ],
   "source": [
    "# example of union()\n",
    "set1={1,2,3,4}\n",
    "set2={5,6,7,8}\n",
    "set3=set1.union(set2)\n",
    "print(\"set3=\",set3)\n",
    "print(\"set1=\",set1)\n",
    "print(\"set2=\",set2)"
   ]
  },
  {
   "cell_type": "code",
   "execution_count": 27,
   "id": "ed089677-7622-47af-9e40-7e461f02b437",
   "metadata": {},
   "outputs": [
    {
     "name": "stdout",
     "output_type": "stream",
     "text": [
      "set1= {1, 2, 3, 4}\n",
      "set2= {1, 2, 3, 4, 5, 6, 7, 8}\n"
     ]
    }
   ],
   "source": [
    "# example of update()\n",
    "set4={1,2,3,4}\n",
    "set5={5,6,7,8}\n",
    "set2.update(set1)\n",
    "print(\"set1=\",set1)\n",
    "print(\"set2=\",set2)"
   ]
  },
  {
   "cell_type": "markdown",
   "id": "4b55dca1-e998-4d2c-8273-a9e7e0a8fb4d",
   "metadata": {},
   "source": [
    "### Q5. What is a dictionary? Give an example. Also, state whether a dictionary is ordered or unordered. "
   ]
  },
  {
   "cell_type": "markdown",
   "id": "03dd71d6-3722-4f6d-ae92-6286a2fa0f35",
   "metadata": {},
   "source": [
    " * Dictionary in Python is an unordered collection of key-value pairs\n",
    " * Dictionaries are mutable, meaning that their contents can be changed after they are created\n",
    " * accessed by key, not by index\n",
    " * splicing possible in dictionary\n"
   ]
  },
  {
   "cell_type": "code",
   "execution_count": 1,
   "id": "acda185f-0a19-40fa-8605-52ce050c6038",
   "metadata": {},
   "outputs": [],
   "source": [
    "employee = {'name': 'John Doe', 'age': 35, 'department': 'Sales'}"
   ]
  },
  {
   "cell_type": "code",
   "execution_count": 2,
   "id": "3b2be3cb-d8ff-4446-819c-2e592b049cb8",
   "metadata": {},
   "outputs": [
    {
     "data": {
      "text/plain": [
       "{'name': 'John Doe', 'age': 35, 'department': 'Sales'}"
      ]
     },
     "execution_count": 2,
     "metadata": {},
     "output_type": "execute_result"
    }
   ],
   "source": [
    "employee"
   ]
  },
  {
   "cell_type": "code",
   "execution_count": 3,
   "id": "f188fa5d-bb58-4b73-b062-e01343177e73",
   "metadata": {},
   "outputs": [
    {
     "data": {
      "text/plain": [
       "'John Doe'"
      ]
     },
     "execution_count": 3,
     "metadata": {},
     "output_type": "execute_result"
    }
   ],
   "source": [
    "employee['name']"
   ]
  },
  {
   "cell_type": "markdown",
   "id": "c889ed81-cb06-4fc5-b166-5be521b880fc",
   "metadata": {},
   "source": [
    "### Q6. Can we create a nested dictionary? If so, please give an example by creating a simple one-level nested dictionary.\n",
    "* Yes we can create nested dictionary"
   ]
  },
  {
   "cell_type": "code",
   "execution_count": 6,
   "id": "fb125394-0353-456d-82bb-5795e9e24648",
   "metadata": {},
   "outputs": [],
   "source": [
    "dictionary1={'name':'Sagarika','age':22,'family': {1:'Seema',2:'Sparsh',3:'Rakesh'}}"
   ]
  },
  {
   "cell_type": "code",
   "execution_count": 7,
   "id": "a3088764-97b2-44d9-94ff-0066f68d33c7",
   "metadata": {},
   "outputs": [
    {
     "data": {
      "text/plain": [
       "{'name': 'Sagarika',\n",
       " 'age': 22,\n",
       " 'family': {1: 'Seema', 2: 'Sparsh', 3: 'Rakesh'}}"
      ]
     },
     "execution_count": 7,
     "metadata": {},
     "output_type": "execute_result"
    }
   ],
   "source": [
    "dictionary1"
   ]
  },
  {
   "cell_type": "code",
   "execution_count": 9,
   "id": "bdb5959e-7089-40ad-809a-d99e2ae34152",
   "metadata": {},
   "outputs": [
    {
     "data": {
      "text/plain": [
       "'Seema'"
      ]
     },
     "execution_count": 9,
     "metadata": {},
     "output_type": "execute_result"
    }
   ],
   "source": [
    "dictionary1['family'][1]"
   ]
  },
  {
   "cell_type": "markdown",
   "id": "957df5ea-9780-47c6-9636-0e95c340ce1a",
   "metadata": {},
   "source": [
    "### Q7. Using setdefault() method, create key named topics in the given dictionary and also add the value of  the key as this list ['Python', 'Machine Learning’, 'Deep Learning'] "
   ]
  },
  {
   "cell_type": "code",
   "execution_count": 11,
   "id": "27b86890-0394-4186-9933-eaa564a3e279",
   "metadata": {},
   "outputs": [
    {
     "name": "stdout",
     "output_type": "stream",
     "text": [
      "{'language': 'Python', 'course': 'Data Science Masters', 'topics': ['Python', 'Machine Learning', 'Deep Learning']}\n"
     ]
    }
   ],
   "source": [
    "dict1 = {'language' : 'Python', 'course': 'Data Science Masters'} \n",
    "dict1.setdefault('topics', ['Python', 'Machine Learning', 'Deep Learning'])\n",
    "print(dict1)"
   ]
  },
  {
   "cell_type": "markdown",
   "id": "6be98450-1e41-4153-9cbe-ec6ea31035bc",
   "metadata": {},
   "source": [
    "### Q8.What are the three view objects in dictionaries? Use the three in-built methods in python to display  these three view objects for the given dictionary. \n",
    "dict1 = {'Sport': 'Cricket' , 'Teams': ['India', 'Australia', 'England', 'South Africa', 'Sri Lanka', 'New Zealand']} \n",
    "\n",
    "* keys() -returns view object that displays list of all keys in a dictionary.\n",
    "* values() -returns a view object that displays a list of all the values in a dictionary.\n",
    "* items() -returns view object of a list of all the key-value pairs in a dictionary.\n",
    "\n"
   ]
  },
  {
   "cell_type": "code",
   "execution_count": 12,
   "id": "76452ba2-ce9b-4ebc-b83c-29e343b4a136",
   "metadata": {},
   "outputs": [],
   "source": [
    "dict2 = {'Sport': 'Cricket' , 'Teams': ['India', 'Australia', 'England', 'South Africa', 'Sri Lanka', 'New Zealand']} "
   ]
  },
  {
   "cell_type": "code",
   "execution_count": 15,
   "id": "b7d9ace3-3cb2-4ca4-bf1f-7e8acbd9ec6e",
   "metadata": {},
   "outputs": [
    {
     "data": {
      "text/plain": [
       "dict_keys(['Sport', 'Teams'])"
      ]
     },
     "execution_count": 15,
     "metadata": {},
     "output_type": "execute_result"
    }
   ],
   "source": [
    "dict2.keys()"
   ]
  },
  {
   "cell_type": "code",
   "execution_count": 16,
   "id": "fce9fd8c-44f1-48e2-89e7-705dc420a944",
   "metadata": {},
   "outputs": [
    {
     "data": {
      "text/plain": [
       "dict_values(['Cricket', ['India', 'Australia', 'England', 'South Africa', 'Sri Lanka', 'New Zealand']])"
      ]
     },
     "execution_count": 16,
     "metadata": {},
     "output_type": "execute_result"
    }
   ],
   "source": [
    "dict2.values()"
   ]
  },
  {
   "cell_type": "code",
   "execution_count": 18,
   "id": "2ff296f3-5d27-4f02-ac8a-53c09dd20379",
   "metadata": {},
   "outputs": [
    {
     "name": "stdout",
     "output_type": "stream",
     "text": [
      "dict_items([('Sport', 'Cricket'), ('Teams', ['India', 'Australia', 'England', 'South Africa', 'Sri Lanka', 'New Zealand'])])\n"
     ]
    }
   ],
   "source": [
    "dict2.items()"
   ]
  },
  {
   "cell_type": "code",
   "execution_count": null,
   "id": "b58e547c-293d-4b23-a3de-278ee7e89e22",
   "metadata": {},
   "outputs": [],
   "source": []
  }
 ],
 "metadata": {
  "kernelspec": {
   "display_name": "Python 3 (ipykernel)",
   "language": "python",
   "name": "python3"
  },
  "language_info": {
   "codemirror_mode": {
    "name": "ipython",
    "version": 3
   },
   "file_extension": ".py",
   "mimetype": "text/x-python",
   "name": "python",
   "nbconvert_exporter": "python",
   "pygments_lexer": "ipython3",
   "version": "3.10.8"
  }
 },
 "nbformat": 4,
 "nbformat_minor": 5
}

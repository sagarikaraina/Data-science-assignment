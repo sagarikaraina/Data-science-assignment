{
 "cells": [
  {
   "cell_type": "markdown",
   "id": "69a19edc-f8b3-43bf-a5f5-fc7ad341bc6b",
   "metadata": {},
   "source": [
    "Q1. Create a function which will take a list as an argument and return the product of all the numbers after creating a flat list.\n",
    "Use the below-given list as an argument for your function.\n",
    "\n",
    "list1 = [1,2,3,4, [44,55,66, True], False, (34,56,78,89,34), {1,2,3,3,2,1}, {1:34, \"key2\": [55, 67, 78, 89], 4: (45,\n",
    "22, 61, 34)}, [56, 'data science'], 'Machine Learning']"
   ]
  },
  {
   "cell_type": "code",
   "execution_count": 3,
   "id": "5b81122d-7ebf-4a26-8164-c694911e3c81",
   "metadata": {},
   "outputs": [],
   "source": [
    "list1 = [1,2,3,4, [44,55,66, True], False, (34,56,78,89,34), {1,2,3,3,2,1}, {1:34, \"key2\": [55, 67, 78, 89], 4: (45,\n",
    "22, 61, 34)}, [56, 'data science'], 'Machine Learning']"
   ]
  },
  {
   "cell_type": "code",
   "execution_count": 22,
   "id": "6521b233-6228-4f35-a7a4-aea674a04890",
   "metadata": {},
   "outputs": [],
   "source": [
    "#variation 1\n",
    "def function1(l):\n",
    "    l2=[]\n",
    "    product=1\n",
    "    for i in l:\n",
    "        if type(i)==int or type(i)==float:\n",
    "            l2.append(i)\n",
    "        elif type(i)==list or type(i)==tuple or type(i)==set:\n",
    "            for j in i:\n",
    "                if type(j)==int:\n",
    "                    l2.append(j)\n",
    "        elif type(i)==dict:\n",
    "            for j in i.keys():\n",
    "                if type(j)==int:\n",
    "                    l2.append(j)\n",
    "            for k in i.values():\n",
    "                if type(k)==int:\n",
    "                    l2.append(k)\n",
    "                elif type(k)==list or type(k)==tuple or type(k)==set:\n",
    "                    for m in k:\n",
    "                        if type(m)==int:\n",
    "                            l2.append(m)\n",
    "                \n",
    "    print(l2)\n",
    "    for p in l2:\n",
    "        product *=p\n",
    "    return product"
   ]
  },
  {
   "cell_type": "code",
   "execution_count": 23,
   "id": "a2d2ecb2-3d17-4424-b079-a729a3e7335c",
   "metadata": {},
   "outputs": [
    {
     "name": "stdout",
     "output_type": "stream",
     "text": [
      "[1, 2, 3, 4, 44, 55, 66, 34, 56, 78, 89, 34, 1, 2, 3, 1, 4, 34, 55, 67, 78, 89, 45, 22, 61, 34, 56]\n"
     ]
    },
    {
     "data": {
      "text/plain": [
       "4134711838987085478833841242112000"
      ]
     },
     "execution_count": 23,
     "metadata": {},
     "output_type": "execute_result"
    }
   ],
   "source": [
    "function1(list1)"
   ]
  },
  {
   "cell_type": "code",
   "execution_count": 6,
   "id": "1a5fa8ac-c175-4a1c-89dc-11656adde130",
   "metadata": {},
   "outputs": [],
   "source": [
    "# variation2\n",
    "def flatten_list_and_find_product(list1):\n",
    "    flat_list = []\n",
    "    \n",
    "    def flatten(l):\n",
    "        for i in l:\n",
    "            if type(i) in [list, tuple, set,dict]:\n",
    "                flatten(i)\n",
    "                if type(i)==dict:\n",
    "                    for j in i.values():\n",
    "                        if type(j) in[list,tuple,set,dict]:\n",
    "                            flatten(j)\n",
    "                        elif type(j)==int or type(j)==float:\n",
    "                            flat_list.append(j)   \n",
    "            elif type(i) == int or type(i) == float:\n",
    "                flat_list.append(i)\n",
    "            \n",
    "    \n",
    "    flatten(list1)\n",
    "    print(flat_list)\n",
    "    product = 1\n",
    "    for i in flat_list:\n",
    "        product *= i\n",
    "    return product"
   ]
  },
  {
   "cell_type": "code",
   "execution_count": 7,
   "id": "618c6164-8d19-4b4d-8797-7f0c7e2b9d02",
   "metadata": {},
   "outputs": [
    {
     "name": "stdout",
     "output_type": "stream",
     "text": [
      "[1, 2, 3, 4, 44, 55, 66, 34, 56, 78, 89, 34, 1, 2, 3, 1, 4, 34, 55, 67, 78, 89, 45, 22, 61, 34, 56]\n"
     ]
    },
    {
     "data": {
      "text/plain": [
       "4134711838987085478833841242112000"
      ]
     },
     "execution_count": 7,
     "metadata": {},
     "output_type": "execute_result"
    }
   ],
   "source": [
    "flatten_list_and_find_product(list1)"
   ]
  },
  {
   "cell_type": "markdown",
   "id": "731ad211-cc25-46e4-884d-372ddc0be3df",
   "metadata": {},
   "source": [
    "Q2. Write a python program for encrypting a message sent to you by your friend. The logic of encryption\n",
    "should be such that, for a the output should be z. For b, the output should be y. For c, the output should\n",
    "be x respectively. Also, the whitespace should be replaced with a dollar sign. Keep the punctuation\n",
    "marks unchanged.\n",
    "\n",
    "Input Sentence: I want to become a Data Scientist.\n",
    "\n",
    "Encrypt the above input sentence using the program you just created.\n",
    "\n",
    "Note: Convert the given input sentence into lowercase before encrypting. The final output should be\n",
    "lowercase."
   ]
  },
  {
   "cell_type": "code",
   "execution_count": 96,
   "id": "e6c51e4a-dbfc-482e-b1fe-50a945640bbc",
   "metadata": {},
   "outputs": [
    {
     "name": "stdout",
     "output_type": "stream",
     "text": [
      "Original message: I want to become a Data Scientist.\n",
      "Encrypted message: r$dzmg$gl$yvxlnv$z$wzgz$hxrvmgrhg.\n"
     ]
    }
   ],
   "source": [
    "def encrypt_message(message):\n",
    "    message = message.lower()\n",
    "    encrypted_message = \"\"\n",
    "    for char in message:\n",
    "        if char == \" \":\n",
    "            encrypted_message += \"$\"\n",
    "        elif char.isalpha():\n",
    "            encrypted_message += chr(122 - ord(char) + 97)\n",
    "        else:\n",
    "            encrypted_message += char\n",
    "    return encrypted_message\n",
    "\n",
    "# Test the function with a sample message\n",
    "sample_message = \"I want to become a Data Scientist.\"\n",
    "print(\"Original message:\", sample_message)\n",
    "print(\"Encrypted message:\", encrypt_message(sample_message))"
   ]
  },
  {
   "cell_type": "code",
   "execution_count": 71,
   "id": "a10762dc-158f-4a7b-92d6-dbc44f4b201f",
   "metadata": {},
   "outputs": [
    {
     "name": "stdout",
     "output_type": "stream",
     "text": [
      "\n"
     ]
    }
   ],
   "source": []
  },
  {
   "cell_type": "code",
   "execution_count": null,
   "id": "3ee3e466-4a8a-4f75-98ad-aa8978d5dfad",
   "metadata": {},
   "outputs": [],
   "source": []
  }
 ],
 "metadata": {
  "kernelspec": {
   "display_name": "Python 3 (ipykernel)",
   "language": "python",
   "name": "python3"
  },
  "language_info": {
   "codemirror_mode": {
    "name": "ipython",
    "version": 3
   },
   "file_extension": ".py",
   "mimetype": "text/x-python",
   "name": "python",
   "nbconvert_exporter": "python",
   "pygments_lexer": "ipython3",
   "version": "3.10.8"
  }
 },
 "nbformat": 4,
 "nbformat_minor": 5
}

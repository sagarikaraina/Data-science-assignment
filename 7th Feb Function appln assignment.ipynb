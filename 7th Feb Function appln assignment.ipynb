{
 "cells": [
  {
   "cell_type": "markdown",
   "id": "fbd58bc3-8365-4fda-b2a6-d1254e296cd9",
   "metadata": {},
   "source": [
    "### Q1. You are writing code for a company. The requirement of the company is that you create a python function that will check whether the password entered by the user is correct or not. The function should take the password as input and return the string “Valid Password” if the entered password follows the below-given password guidelines else it should return “Invalid Password”.\n",
    "Note: \n",
    "1. The Password should contain at least two uppercase letters and at least two lowercase letters.\n",
    "2. The Password should contain at least a number and three special characters.\n",
    "3. The length of the password should be 10 characters long."
   ]
  },
  {
   "cell_type": "code",
   "execution_count": 33,
   "id": "ad4032e5-2227-4487-bcc8-c78f8d7af806",
   "metadata": {},
   "outputs": [],
   "source": [
    "def passwordcheck(password):\n",
    "    result=''\n",
    "    if len(password)>=10:\n",
    "        numcount=sum(c.isdigit() for c in password)\n",
    "        specialcharcount=sum(1 for c in password if c in \"!@#$%^&*()-+\")\n",
    "        uppercasecount=sum(s.isupper() for s in password)\n",
    "        lowercasecount=sum(s.islower() for s in password)   \n",
    "        if numcount>=1 and specialcharcount>=3 and uppercasecount>=2 and lowercasecount>=2:\n",
    "            result='Valid password'\n",
    "        else:\n",
    "            result='Invalid password'\n",
    "    else:\n",
    "        result='Invalid password'\n",
    "    return result"
   ]
  },
  {
   "cell_type": "code",
   "execution_count": 34,
   "id": "8de3d7c4-c8bd-474b-8619-3b700cdb42cd",
   "metadata": {},
   "outputs": [
    {
     "data": {
      "text/plain": [
       "'Valid password'"
      ]
     },
     "execution_count": 34,
     "metadata": {},
     "output_type": "execute_result"
    }
   ],
   "source": [
    "passwordcheck('HaNnah88d5@$$')"
   ]
  },
  {
   "cell_type": "markdown",
   "id": "0e194424-71f3-4f61-821b-dceef448f842",
   "metadata": {},
   "source": [
    "Q2. Solve the below-given questions using at least one of the following:\n",
    "1. Lambda function\n",
    "2. Filter function\n",
    "3. Map function\n",
    "4. List Comprehension"
   ]
  },
  {
   "cell_type": "markdown",
   "id": "0616699a-72cd-4933-9122-844a646233f5",
   "metadata": {},
   "source": [
    "#### 2.1 Check if the string starts with a particular letter."
   ]
  },
  {
   "cell_type": "code",
   "execution_count": 189,
   "id": "2533aa0d-d2c3-4b49-ab74-b35564a55f80",
   "metadata": {},
   "outputs": [
    {
     "name": "stdin",
     "output_type": "stream",
     "text": [
      " sagarika\n"
     ]
    },
    {
     "name": "stdout",
     "output_type": "stream",
     "text": [
      "True\n"
     ]
    }
   ],
   "source": [
    "string1=str(input()).lower()\n",
    "starts_with = lambda x: True if x.startswith('s') else False\n",
    "print(starts_with(string1))"
   ]
  },
  {
   "cell_type": "markdown",
   "id": "af662709-ee40-4ae0-8aa2-d64bea74df1a",
   "metadata": {},
   "source": [
    "#### 2.2 Check if the string is numeric"
   ]
  },
  {
   "cell_type": "code",
   "execution_count": 111,
   "id": "b893b3dc-136c-42c8-84fc-c5d29c385728",
   "metadata": {},
   "outputs": [
    {
     "name": "stdin",
     "output_type": "stream",
     "text": [
      " 423\n"
     ]
    },
    {
     "data": {
      "text/plain": [
       "True"
      ]
     },
     "execution_count": 111,
     "metadata": {},
     "output_type": "execute_result"
    }
   ],
   "source": [
    "s=str(input())\n",
    "all([i.isdigit() for i in s])  "
   ]
  },
  {
   "cell_type": "markdown",
   "id": "4508fb12-5ea3-4124-a60c-46d5a5cf1bdf",
   "metadata": {},
   "source": [
    "#### 2.3 Sort a list of tuples having fruit names and their quantity. [(\"mango\",99),(\"orange\",80), (\"grapes\", 1000)]"
   ]
  },
  {
   "cell_type": "code",
   "execution_count": 68,
   "id": "57e4cd2d-1cf9-437d-bd67-7a9f1f7d87a7",
   "metadata": {},
   "outputs": [
    {
     "data": {
      "text/plain": [
       "[('orange', 80), ('mango', 99), ('grapes', 1000)]"
      ]
     },
     "execution_count": 68,
     "metadata": {},
     "output_type": "execute_result"
    }
   ],
   "source": [
    "fruits=[('mango',99),('orange',80),('grapes',1000)]\n",
    "sorted(fruits,key=lambda x:x[1])"
   ]
  },
  {
   "cell_type": "markdown",
   "id": "2a0d113c-3362-4cf6-89fb-52ed7f421350",
   "metadata": {},
   "source": [
    "#### 2.4 Find the squares of numbers from 1 to 10"
   ]
  },
  {
   "cell_type": "code",
   "execution_count": 59,
   "id": "5f755e95-6bb3-4610-bd99-aadb6e69c437",
   "metadata": {},
   "outputs": [
    {
     "data": {
      "text/plain": [
       "[1, 4, 9, 16, 25, 36, 49, 64, 81, 100]"
      ]
     },
     "execution_count": 59,
     "metadata": {},
     "output_type": "execute_result"
    }
   ],
   "source": [
    "[x**2 for x in range(1,11)]"
   ]
  },
  {
   "cell_type": "markdown",
   "id": "15fbf460-c1d0-4a11-9e9e-41fcf5f4246f",
   "metadata": {},
   "source": [
    "#### 2.5 Find the cube root of numbers from 1 to 10"
   ]
  },
  {
   "cell_type": "code",
   "execution_count": 56,
   "id": "8b63f94b-27f7-4479-900b-1d595db3b0ee",
   "metadata": {},
   "outputs": [
    {
     "data": {
      "text/plain": [
       "[1.0,\n",
       " 1.2599210498948732,\n",
       " 1.4422495703074083,\n",
       " 1.5874010519681994,\n",
       " 1.7099759466766968,\n",
       " 1.8171205928321397,\n",
       " 1.912931182772389,\n",
       " 2.0,\n",
       " 2.080083823051904,\n",
       " 2.154434690031884]"
      ]
     },
     "execution_count": 56,
     "metadata": {},
     "output_type": "execute_result"
    }
   ],
   "source": [
    "[x**(1/3) for x in range(1,11)]"
   ]
  },
  {
   "cell_type": "markdown",
   "id": "9134b3cf-8731-49ec-94e6-1632039945d0",
   "metadata": {},
   "source": [
    "#### 2.6 Check if a given number is even"
   ]
  },
  {
   "cell_type": "code",
   "execution_count": 45,
   "id": "b43d97c4-b322-4901-b915-96d9d40b2851",
   "metadata": {},
   "outputs": [
    {
     "name": "stdin",
     "output_type": "stream",
     "text": [
      "Enter a number 8\n"
     ]
    },
    {
     "name": "stdout",
     "output_type": "stream",
     "text": [
      "even\n"
     ]
    }
   ],
   "source": [
    "i=int(input('Enter a number'))\n",
    "print('even') if i%2==0 else print('odd')"
   ]
  },
  {
   "cell_type": "markdown",
   "id": "e53ba4f6-1113-4f31-9278-ed32fcad416b",
   "metadata": {},
   "source": [
    "#### 2.7 Filter odd numbers from the given list.\n",
    "[1,2,3,4,5,6,7,8,9,10]"
   ]
  },
  {
   "cell_type": "code",
   "execution_count": 35,
   "id": "6d74801e-4eb6-4ec6-8e14-ffc1851b5cd2",
   "metadata": {},
   "outputs": [
    {
     "data": {
      "text/plain": [
       "[1, 3, 5, 7, 9]"
      ]
     },
     "execution_count": 35,
     "metadata": {},
     "output_type": "execute_result"
    }
   ],
   "source": [
    "l=[1,2,3,4,5,6,7,8,9,10]\n",
    "list(filter(lambda x:x%2!=0,l))"
   ]
  },
  {
   "cell_type": "markdown",
   "id": "5365a98a-4f1d-402f-8c87-62f51755f9e6",
   "metadata": {},
   "source": [
    "#### 2.8 Sort a list of integers into positive and negative integers lists.\n",
    "[1,2,3,4,5,6,-1,-2,-3,-4,-5,0]"
   ]
  },
  {
   "cell_type": "code",
   "execution_count": 64,
   "id": "020ef1cd-62b8-4e67-b86a-0dbce1e11b22",
   "metadata": {},
   "outputs": [
    {
     "data": {
      "text/plain": [
       "[1, 2, 3, 4, 5, 6, 0]"
      ]
     },
     "execution_count": 64,
     "metadata": {},
     "output_type": "execute_result"
    }
   ],
   "source": [
    "l1=[1,2,3,4,5,6,-1,-2,-3,-4,-5,0]\n",
    "list(filter(lambda x:x>=0,l1))"
   ]
  },
  {
   "cell_type": "code",
   "execution_count": 65,
   "id": "9671f8b4-a91b-4d6d-9fb4-3d5b3a534a9e",
   "metadata": {},
   "outputs": [
    {
     "data": {
      "text/plain": [
       "[-1, -2, -3, -4, -5]"
      ]
     },
     "execution_count": 65,
     "metadata": {},
     "output_type": "execute_result"
    }
   ],
   "source": [
    "list(filter(lambda n:n<0,l1))"
   ]
  }
 ],
 "metadata": {
  "kernelspec": {
   "display_name": "Python 3 (ipykernel)",
   "language": "python",
   "name": "python3"
  },
  "language_info": {
   "codemirror_mode": {
    "name": "ipython",
    "version": 3
   },
   "file_extension": ".py",
   "mimetype": "text/x-python",
   "name": "python",
   "nbconvert_exporter": "python",
   "pygments_lexer": "ipython3",
   "version": "3.10.8"
  }
 },
 "nbformat": 4,
 "nbformat_minor": 5
}

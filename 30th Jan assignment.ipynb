{
 "cells": [
  {
   "cell_type": "code",
   "execution_count": 2,
   "id": "c62a38a7-9887-47a7-8f63-7cc022ae759e",
   "metadata": {},
   "outputs": [
    {
     "data": {
      "text/plain": [
       "'\\nMarks          Grade\\n>90            A\\n>80 and <=90   B\\n>=60 and <=80  C\\nbelow 60       D \\n'"
      ]
     },
     "execution_count": 2,
     "metadata": {},
     "output_type": "execute_result"
    }
   ],
   "source": [
    "# Q1 .Write a program to accept percentage from the user and display the grade according to the following criteria\n",
    "'''\n",
    "Marks          Grade\n",
    ">90            A\n",
    ">80 and <=90   B\n",
    ">=60 and <=80  C\n",
    "below 60       D \n",
    "'''"
   ]
  },
  {
   "cell_type": "code",
   "execution_count": 10,
   "id": "b284fa05-0096-42f4-bdef-97ae7e3f0f3c",
   "metadata": {},
   "outputs": [
    {
     "name": "stdin",
     "output_type": "stream",
     "text": [
      "Enter percentage 60\n"
     ]
    },
    {
     "name": "stdout",
     "output_type": "stream",
     "text": [
      "C\n"
     ]
    }
   ],
   "source": [
    "i=int (input(\"Enter marks\"))\n",
    "grade=''\n",
    "if(i>90):\n",
    "    grade='A'\n",
    "elif(i>80 and i<=90):\n",
    "    grade='B'\n",
    "elif(i>=60 and i<=80):\n",
    "    grade='C'\n",
    "elif(i<60):\n",
    "    grade='D'\n",
    "print(grade)"
   ]
  },
  {
   "cell_type": "code",
   "execution_count": 13,
   "id": "0c44aa71-c1eb-436a-9740-fe0eaabc7051",
   "metadata": {},
   "outputs": [
    {
     "data": {
      "text/plain": [
       "'\\nTax          Cost price\\n15%          >100000\\n10%          >50000 and <=100000\\n5%           <= 50000 \\n'"
      ]
     },
     "execution_count": 13,
     "metadata": {},
     "output_type": "execute_result"
    }
   ],
   "source": [
    "# Q2 .Write a program to accept cost price of bike and display road tax to be paid according to following criteria\n",
    "\"\"\"\n",
    "Tax          Cost price\n",
    "15%          >100000\n",
    "10%          >50000 and <=100000\n",
    "5%           <= 50000 \n",
    "\"\"\""
   ]
  },
  {
   "cell_type": "code",
   "execution_count": 15,
   "id": "cfa462f1-c81f-4ef5-8ed6-dc6d0401fdb0",
   "metadata": {},
   "outputs": [
    {
     "name": "stdin",
     "output_type": "stream",
     "text": [
      "Ener cost price of bike 100000\n"
     ]
    },
    {
     "name": "stdout",
     "output_type": "stream",
     "text": [
      "10000.0\n"
     ]
    }
   ],
   "source": [
    "price=int(input(\"Ener cost price of bike\"))\n",
    "roadtax=0\n",
    "if price>100000:\n",
    "    roadtax=0.15*price\n",
    "elif price>50000 and price<=100000:\n",
    "    roadtax=0.10*price\n",
    "else:\n",
    "    roadtax=0.05*price\n",
    "print(roadtax)\n"
   ]
  },
  {
   "cell_type": "code",
   "execution_count": 21,
   "id": "7a026306-311f-4761-af91-7df8b2f6602b",
   "metadata": {},
   "outputs": [
    {
     "name": "stdin",
     "output_type": "stream",
     "text": [
      "enter city AgRa\n"
     ]
    },
    {
     "name": "stdout",
     "output_type": "stream",
     "text": [
      "Taj Mahal\n"
     ]
    }
   ],
   "source": [
    "# Q3 .Accept any city from the user and display monumnets of that city\n",
    "\"\"\"\n",
    "City         Monument\n",
    "Delhi        Red Fort\n",
    "Agra         Taj Mahal\n",
    "Jaipur       Jal Mahal\n",
    "\"\"\"\n",
    "cityinput=input(\"enter city\")\n",
    "city=cityinput.lower()\n",
    "if city=='delhi':\n",
    "    monument='Red Fort'\n",
    "elif city=='agra':\n",
    "    monument='Taj Mahal'\n",
    "elif city=='jaipur':\n",
    "    monument='Jal Mahal'\n",
    "else:\n",
    "    print(\"Enter either Delhi,Jaipur,Agra only\")\n",
    "print(monument)"
   ]
  },
  {
   "cell_type": "code",
   "execution_count": 35,
   "id": "14fa34fc-e564-4f60-9a6b-5da1c596f1fd",
   "metadata": {},
   "outputs": [
    {
     "name": "stdin",
     "output_type": "stream",
     "text": [
      "Enter a number 4\n"
     ]
    },
    {
     "name": "stdout",
     "output_type": "stream",
     "text": [
      "2\n"
     ]
    }
   ],
   "source": [
    "#Q4.Check how many times a given number can be divided by 3 before it is less than or equal to 10\n",
    "no=int(input(\"Enter a number\"))\n",
    "count=0\n",
    "for i in range(no,11):\n",
    "    if i%3==0:\n",
    "        count=count+1\n",
    "print(count)"
   ]
  },
  {
   "cell_type": "markdown",
   "id": "eae9a51e-9e35-4b23-bf70-80024ec855a6",
   "metadata": {},
   "source": [
    "# Q5.Why and when to use while loop in python with an example?\n",
    "\n",
    "The while loop in Python is used to repeatedly execute a block of code as long as a given condition is true.\n",
    "While loop when you want to repeat a set of actions until a specific condition is met. For example, you might use a while loop to repeatedly read input from the user until they enter a valid value:\n"
   ]
  },
  {
   "cell_type": "code",
   "execution_count": 12,
   "id": "b3911ad6-847a-4d83-9e7b-5b435db73f43",
   "metadata": {},
   "outputs": [
    {
     "name": "stdin",
     "output_type": "stream",
     "text": [
      "Enter a number: j\n"
     ]
    },
    {
     "name": "stdout",
     "output_type": "stream",
     "text": [
      "Invalid input, try again.\n"
     ]
    },
    {
     "name": "stdin",
     "output_type": "stream",
     "text": [
      "Enter a number: 7\n"
     ]
    }
   ],
   "source": [
    "while True:\n",
    "    user_input = input(\"Enter a number:\")\n",
    "    if user_input.isdigit():\n",
    "        break\n",
    "    print(\"Invalid input, try again.\")\n"
   ]
  },
  {
   "cell_type": "markdown",
   "id": "a15ab4d3-4bd9-4708-bb43-1e6cb1116895",
   "metadata": {},
   "source": [
    "\n",
    "In this example, the while loop continues to execute as long as the True condition is true. The break statement is used to exit the loop when a valid input is entered by the user.\n",
    "\n"
   ]
  },
  {
   "cell_type": "code",
   "execution_count": 8,
   "id": "f548e1d4-a31a-40b7-8b5c-0d0de8414ba7",
   "metadata": {},
   "outputs": [
    {
     "name": "stdin",
     "output_type": "stream",
     "text": [
      "Enter number of rows 7\n"
     ]
    },
    {
     "name": "stdout",
     "output_type": "stream",
     "text": [
      "\t\n",
      " *\t\n",
      " * *\t\n",
      " * * *\t\n",
      " * * * *\t\n",
      " * * * * *\t\n",
      " * * * * * *\t\n"
     ]
    }
   ],
   "source": [
    "# Q6.3 different patterns using nested while look\n",
    "# right angled triangle\n",
    "rows=int(input(\"Enter number of rows\"))\n",
    "i=0\n",
    "while i<rows:\n",
    "    j=0\n",
    "    while j<i:\n",
    "        print(\"*\",end=\" \")\n",
    "        j=j+1\n",
    "    print(\"\\r\")\n",
    "    i=i+1"
   ]
  },
  {
   "cell_type": "code",
   "execution_count": 11,
   "id": "fe6d89b0-fb35-4528-a7d7-2979aa5408d4",
   "metadata": {},
   "outputs": [
    {
     "name": "stdin",
     "output_type": "stream",
     "text": [
      "enter number of rows 7\n"
     ]
    },
    {
     "name": "stdout",
     "output_type": "stream",
     "text": [
      "       \n",
      "      * \n",
      "     * * \n",
      "    * * * \n",
      "   * * * * \n",
      "  * * * * * \n",
      " * * * * * * \n"
     ]
    }
   ],
   "source": [
    "# pyramid triangle\n",
    "rows=int(input(\"enter number of rows\"))\n",
    "i=0\n",
    "while i<rows:\n",
    "    j=0\n",
    "    while j<rows-i:\n",
    "        print(end=\" \")\n",
    "        j=j+1\n",
    "    k=0\n",
    "    while k<i:\n",
    "        print(\"*\",end=\" \")\n",
    "        k=k+1\n",
    "    print(\"\\r\")\n",
    "    i=i+1\n",
    "    "
   ]
  },
  {
   "cell_type": "code",
   "execution_count": 7,
   "id": "31c016d8-0400-452e-b3fc-22a96eefbaee",
   "metadata": {},
   "outputs": [
    {
     "name": "stdin",
     "output_type": "stream",
     "text": [
      "enter number of rows 7\n"
     ]
    },
    {
     "name": "stdout",
     "output_type": "stream",
     "text": [
      "* * * * * * * \n",
      "* * * * * * \n",
      "* * * * * \n",
      "* * * * \n",
      "* * * \n",
      "* * \n",
      "* \n"
     ]
    }
   ],
   "source": [
    "# inverted triangle\n",
    "rows=int(input(\"enter number of rows\"))\n",
    "i=0\n",
    "while i<rows:\n",
    "    j=0\n",
    "    while j<rows-i:\n",
    "        print(\"*\",end=\" \")\n",
    "        j=j+1\n",
    "    print(\"\\r\")\n",
    "    i=i+1"
   ]
  },
  {
   "cell_type": "code",
   "execution_count": 9,
   "id": "1ae33ce6-a3e6-410d-a74c-8edce09ade89",
   "metadata": {},
   "outputs": [
    {
     "name": "stdout",
     "output_type": "stream",
     "text": [
      "10\n",
      "9\n",
      "8\n",
      "7\n",
      "6\n",
      "5\n",
      "4\n",
      "3\n",
      "2\n",
      "1\n"
     ]
    }
   ],
   "source": [
    "# Q7 Use while loop to print numbers from 10-1\n",
    "i=10\n",
    "while i>=1:\n",
    "    print(i)\n",
    "    i=i-1"
   ]
  },
  {
   "cell_type": "code",
   "execution_count": 10,
   "id": "71f0a2ec-61f3-4a44-819f-45f907124f49",
   "metadata": {},
   "outputs": [
    {
     "name": "stdout",
     "output_type": "stream",
     "text": [
      "1\n",
      "2\n",
      "3\n",
      "4\n",
      "5\n",
      "6\n",
      "7\n",
      "8\n",
      "9\n",
      "10\n"
     ]
    }
   ],
   "source": [
    "# Q8.Use while loop to print numbers from 1-10\n",
    "i=1\n",
    "while i<=10:\n",
    "    print(i)\n",
    "    i=i+1"
   ]
  },
  {
   "cell_type": "code",
   "execution_count": null,
   "id": "4877fe43-2432-4632-88cc-72ead347d436",
   "metadata": {},
   "outputs": [],
   "source": []
  }
 ],
 "metadata": {
  "kernelspec": {
   "display_name": "Python 3 (ipykernel)",
   "language": "python",
   "name": "python3"
  },
  "language_info": {
   "codemirror_mode": {
    "name": "ipython",
    "version": 3
   },
   "file_extension": ".py",
   "mimetype": "text/x-python",
   "name": "python",
   "nbconvert_exporter": "python",
   "pygments_lexer": "ipython3",
   "version": "3.10.8"
  }
 },
 "nbformat": 4,
 "nbformat_minor": 5
}

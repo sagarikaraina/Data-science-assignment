{
 "cells": [
  {
   "cell_type": "markdown",
   "id": "aa32058d-cb31-4f52-9040-8b882596241a",
   "metadata": {},
   "source": [
    "## Q1. Which function is used to open a file? What are the different modes of opening a file? Explain each mode of file opening."
   ]
  },
  {
   "cell_type": "markdown",
   "id": "1a765df6-a8b9-4bb1-8e2e-cbc546ce075f",
   "metadata": {},
   "source": [
    "* open() is used to open a file ,this returs a file object that can be used to perform various operations on file-\n",
    "\n",
    "1. 'r'       open for reading (default)\n",
    "2. 'w'       open for writing, truncating the file first\n",
    "3. 'x'       create a new file and open it for writing\n",
    "4. 'a'       open for writing, appending to the end of the file if it exists\n",
    "5. 'b'       binary mode\n",
    "6. 't'       text mode (default)\n",
    "7. '+'       open a disk file for updating (reading and writing)\n",
    "8. 'U'       universal newline mode (deprecated)"
   ]
  },
  {
   "cell_type": "markdown",
   "id": "09cd1ce1-69a7-4714-bb80-5835c34e7908",
   "metadata": {},
   "source": [
    "## Q2. Why close() function is used? Why is it important to close a file?"
   ]
  },
  {
   "cell_type": "markdown",
   "id": "d727ba0a-8c0e-460e-8023-e4f658e1c30b",
   "metadata": {},
   "source": [
    "* close() is used to flush and close the file object.\n",
    "* Ensures that the data in programs buffer is written in the file before it's closed,if close() is not used data will be lost and not written in the file."
   ]
  },
  {
   "cell_type": "markdown",
   "id": "791f7d8d-6435-4ef8-a808-52c8ed86a550",
   "metadata": {},
   "source": [
    "## Q3. Write a python program to create a text file. Write ‘I want to become a Data Scientist’ in that file. Then close the file. Open this file and read the content of the file."
   ]
  },
  {
   "cell_type": "markdown",
   "id": "b847f8bf-94bf-47ae-ac63-4d04be0eb0d8",
   "metadata": {},
   "source": [
    "1.Create and write data in text file"
   ]
  },
  {
   "cell_type": "code",
   "execution_count": 22,
   "id": "5cd720df-4f36-467e-b02c-7d5e173a246e",
   "metadata": {},
   "outputs": [],
   "source": [
    "file=open('textFile.txt','w')"
   ]
  },
  {
   "cell_type": "code",
   "execution_count": 23,
   "id": "25b3c458-6e53-447d-a4a4-4ad38fc14e8c",
   "metadata": {},
   "outputs": [
    {
     "data": {
      "text/plain": [
       "33"
      ]
     },
     "execution_count": 23,
     "metadata": {},
     "output_type": "execute_result"
    }
   ],
   "source": [
    "file.write('I want to become a Data Scientist')"
   ]
  },
  {
   "cell_type": "code",
   "execution_count": 24,
   "id": "221b7ebb-5664-45b8-a0cb-a0057ebc6a25",
   "metadata": {},
   "outputs": [],
   "source": [
    "file.close()"
   ]
  },
  {
   "cell_type": "markdown",
   "id": "d170c26e-b29b-4203-ac9c-38fac442515e",
   "metadata": {},
   "source": [
    "2.Read contents of file"
   ]
  },
  {
   "cell_type": "code",
   "execution_count": 25,
   "id": "268024e9-a884-4898-bc25-f3fdabd85d00",
   "metadata": {},
   "outputs": [
    {
     "name": "stdout",
     "output_type": "stream",
     "text": [
      "I want to become a Data Scientist\n"
     ]
    }
   ],
   "source": [
    "with open('textFile.txt','r') as f:\n",
    "    print(f.read())"
   ]
  },
  {
   "cell_type": "markdown",
   "id": "0de55c4f-a59e-4e3e-95ad-624ece4da209",
   "metadata": {},
   "source": [
    "## Q4. Explain the following with python code: read(), readline() and readlines()."
   ]
  },
  {
   "cell_type": "code",
   "execution_count": 26,
   "id": "7b207ff2-f612-4772-a883-81a2f946805b",
   "metadata": {},
   "outputs": [],
   "source": [
    "with open('textFile1.txt','w') as f:\n",
    "    f.write('I am Sagarika\\n')\n",
    "    f.write('I aspire to become Data Scientist')"
   ]
  },
  {
   "cell_type": "markdown",
   "id": "e1c59a8b-c104-446c-b48e-8bf4d2963a12",
   "metadata": {},
   "source": [
    "* read()-reads entire content of file and returns as a single string\n",
    "* Entire file is read into memory at once,hence not suitable for reading large files"
   ]
  },
  {
   "cell_type": "code",
   "execution_count": 27,
   "id": "1c20922e-1ac2-4d50-8b99-5f7206b301ac",
   "metadata": {},
   "outputs": [
    {
     "name": "stdout",
     "output_type": "stream",
     "text": [
      "I am Sagarika\n",
      "I aspire to become Data Scientist\n"
     ]
    }
   ],
   "source": [
    "with open('textFile1.txt','r') as f:\n",
    "    print(f.read())"
   ]
  },
  {
   "cell_type": "markdown",
   "id": "d8141be2-3005-46e7-a7ad-51ba728dca61",
   "metadata": {},
   "source": [
    "* readline()-reads a single line from the file and returns it as a string "
   ]
  },
  {
   "cell_type": "code",
   "execution_count": 28,
   "id": "b8607944-4a35-4bba-b8f7-bac12c9d453b",
   "metadata": {},
   "outputs": [
    {
     "name": "stdout",
     "output_type": "stream",
     "text": [
      "I am Sagarika\n",
      "\n"
     ]
    }
   ],
   "source": [
    "with open('textFile1.txt','r') as f:\n",
    "    print(f.readline())"
   ]
  },
  {
   "cell_type": "markdown",
   "id": "32f5f2f8-7b9d-486c-85c4-d21c12965b2b",
   "metadata": {},
   "source": [
    "* readlines()-reads the entire content of file line by line and returns the lines as a list of strings\n",
    "* Suitable for reading large files"
   ]
  },
  {
   "cell_type": "code",
   "execution_count": 29,
   "id": "4e13419a-673b-40c9-b59f-bbb5a5cc27e0",
   "metadata": {},
   "outputs": [
    {
     "name": "stdout",
     "output_type": "stream",
     "text": [
      "['I am Sagarika\\n', 'I aspire to become Data Scientist']\n"
     ]
    }
   ],
   "source": [
    "with open('textFile1.txt','r') as f:\n",
    "    print(f.readlines())"
   ]
  },
  {
   "cell_type": "markdown",
   "id": "1f7a97e6-7b6b-48b1-bf53-37e714b3589b",
   "metadata": {},
   "source": [
    "## Q5. Explain why with statement is used with open(). What is the advantage of using with statement and open() together?"
   ]
  },
  {
   "cell_type": "markdown",
   "id": "2612d15d-4361-4aa7-a582-1aef6274274e",
   "metadata": {},
   "source": [
    "* with statement is used with the open() function in Python to create a context in which a file is being used.\n",
    "* The advantage of using the with statement with the open() function is that it automatically handles closing the file when the context is exited, making the code cleaner, easier to read, and less error-prone."
   ]
  },
  {
   "cell_type": "markdown",
   "id": "8f46c94d-2a14-4bc9-bc03-eb0704977657",
   "metadata": {},
   "source": [
    "## Q6. Explain the write() and writelines() functions. Give a suitable example."
   ]
  },
  {
   "cell_type": "markdown",
   "id": "4362edb8-ac1a-4681-ba98-928a1c92d802",
   "metadata": {},
   "source": [
    "* write()-used to write single line in a file\n",
    "* If the file already exists, the write() function will overwrite the existing content. If the file does not exist, the write() function will create a new file."
   ]
  },
  {
   "cell_type": "code",
   "execution_count": 44,
   "id": "4bfebeef-47e0-456c-87d0-f7e425bf441f",
   "metadata": {},
   "outputs": [
    {
     "name": "stdout",
     "output_type": "stream",
     "text": [
      "['Hello, World!']\n"
     ]
    }
   ],
   "source": [
    "with open('example.txt', 'w') as file:\n",
    "    file.write('Hello, World!')\n",
    "with open('example.txt','r') as f:\n",
    "    print(f.readlines())"
   ]
  },
  {
   "cell_type": "markdown",
   "id": "d8145e69-14d1-499a-9138-c86522c3ee7d",
   "metadata": {},
   "source": [
    "* writelines()-used to write a sequence of strings to a file. It takes a single argument, which is an iterable (such as a list or a tuple) of strings to be written to the file. \n",
    "* Each string in the iterable should be separated by a newline character (\\n) to ensure that each string is written on a separate line in the file."
   ]
  },
  {
   "cell_type": "code",
   "execution_count": 45,
   "id": "59e38d83-68f2-4959-bd2a-73d083edcca5",
   "metadata": {},
   "outputs": [],
   "source": [
    "list1=['Line1\\n','Line2\\n','Line3\\n']\n",
    "with open('example.txt','w') as f:\n",
    "    f.writelines(list1)"
   ]
  },
  {
   "cell_type": "code",
   "execution_count": 46,
   "id": "cebbceea-9caa-4ccc-bea6-190cdc63fd68",
   "metadata": {},
   "outputs": [
    {
     "name": "stdout",
     "output_type": "stream",
     "text": [
      "['Line1\\n', 'Line2\\n', 'Line3\\n']\n"
     ]
    }
   ],
   "source": [
    "with open('example.txt','r') as f:\n",
    "    print(f.readlines())"
   ]
  },
  {
   "cell_type": "code",
   "execution_count": null,
   "id": "9fa2a326-238a-4fd6-980a-c45cd8db621c",
   "metadata": {},
   "outputs": [],
   "source": []
  }
 ],
 "metadata": {
  "kernelspec": {
   "display_name": "Python 3 (ipykernel)",
   "language": "python",
   "name": "python3"
  },
  "language_info": {
   "codemirror_mode": {
    "name": "ipython",
    "version": 3
   },
   "file_extension": ".py",
   "mimetype": "text/x-python",
   "name": "python",
   "nbconvert_exporter": "python",
   "pygments_lexer": "ipython3",
   "version": "3.10.8"
  }
 },
 "nbformat": 4,
 "nbformat_minor": 5
}

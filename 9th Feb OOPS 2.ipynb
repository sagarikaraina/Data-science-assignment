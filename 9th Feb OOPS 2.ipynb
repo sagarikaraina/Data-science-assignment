{
 "cells": [
  {
   "cell_type": "markdown",
   "id": "68fcbc8e-b822-4514-bd9e-a48a788a36c6",
   "metadata": {},
   "source": [
    "## Q1. Create a vehicle class with an init method having instance variables as name_of_vehicle, max_speed and average_of_vehicle."
   ]
  },
  {
   "cell_type": "code",
   "execution_count": 1,
   "id": "44a01a6f-e7e2-4665-95fd-fe923f2a11aa",
   "metadata": {},
   "outputs": [],
   "source": [
    "class vehicle:\n",
    "    def __init__(self,name_of_vehicle,max_speed,average_of_vehicle):\n",
    "        self.name_of_vehicle=name_of_vehicle\n",
    "        self.max_speed=max_speed\n",
    "        self.average_of_vehicle=average_of_vehicle\n",
    "        "
   ]
  },
  {
   "cell_type": "code",
   "execution_count": 2,
   "id": "c1092484-2260-437d-a880-142b65057d13",
   "metadata": {},
   "outputs": [],
   "source": [
    "vehicleobj=vehicle('Ford',150,25)"
   ]
  },
  {
   "cell_type": "code",
   "execution_count": 3,
   "id": "0851fb1b-68f7-4783-b56c-3cb9c6f05c51",
   "metadata": {},
   "outputs": [
    {
     "data": {
      "text/plain": [
       "'Ford'"
      ]
     },
     "execution_count": 3,
     "metadata": {},
     "output_type": "execute_result"
    }
   ],
   "source": [
    "vehicleobj.name_of_vehicle"
   ]
  },
  {
   "cell_type": "code",
   "execution_count": 4,
   "id": "84c2477d-bce7-47d0-bd36-5e5ef4b5190a",
   "metadata": {},
   "outputs": [
    {
     "data": {
      "text/plain": [
       "150"
      ]
     },
     "execution_count": 4,
     "metadata": {},
     "output_type": "execute_result"
    }
   ],
   "source": [
    "vehicleobj.max_speed"
   ]
  },
  {
   "cell_type": "code",
   "execution_count": 5,
   "id": "9476a9eb-d62f-4a08-a2e1-e6edba5fc33c",
   "metadata": {},
   "outputs": [
    {
     "data": {
      "text/plain": [
       "25"
      ]
     },
     "execution_count": 5,
     "metadata": {},
     "output_type": "execute_result"
    }
   ],
   "source": [
    "vehicleobj.average_of_vehicle"
   ]
  },
  {
   "cell_type": "markdown",
   "id": "7497566c-d4d8-4a70-977f-157431d7272e",
   "metadata": {},
   "source": [
    "## Q2. Create a child class car from the vehicle class created in Que 1, which will inherit the vehicle class. Create a method named seating_capacity which takes capacity as an argument and returns the name of the vehicle and its seating capacity."
   ]
  },
  {
   "cell_type": "code",
   "execution_count": 12,
   "id": "906c3ad2-7099-459a-876d-884be0e517fc",
   "metadata": {},
   "outputs": [],
   "source": [
    "class child(vehicle):\n",
    "    def seating_capacity(self,capacity):\n",
    "        return self.name_of_vehicle,capacity"
   ]
  },
  {
   "cell_type": "code",
   "execution_count": 13,
   "id": "31758aef-56b6-4265-8485-597b0b276ece",
   "metadata": {},
   "outputs": [],
   "source": [
    "childobj=child('Brezza',170,26)"
   ]
  },
  {
   "cell_type": "code",
   "execution_count": 14,
   "id": "655067b7-b171-48c1-b810-d19288a2f746",
   "metadata": {},
   "outputs": [
    {
     "data": {
      "text/plain": [
       "('Brezza', 5)"
      ]
     },
     "execution_count": 14,
     "metadata": {},
     "output_type": "execute_result"
    }
   ],
   "source": [
    "childobj.seating_capacity(5)"
   ]
  },
  {
   "cell_type": "markdown",
   "id": "6fd078c4-8c56-4487-bdb0-483e1dd0b046",
   "metadata": {},
   "source": [
    "## Q3. What is multiple inheritance? Write a python code to demonstrate multiple inheritance."
   ]
  },
  {
   "cell_type": "markdown",
   "id": "33b5ee45-888b-44e4-b0bd-9e1442776aac",
   "metadata": {},
   "source": [
    "In multiple inheritance -a class can inherit properties from more than one base class. This means that a class can have multiple parent classes, and can inherit their attributes and methods."
   ]
  },
  {
   "cell_type": "code",
   "execution_count": 22,
   "id": "89614cf8-69a3-43d3-9d89-a04315c52e73",
   "metadata": {},
   "outputs": [],
   "source": [
    "class baseA:\n",
    "    def function1(self):\n",
    "        print('This is baseA class method')\n",
    "\n",
    "class baseB:\n",
    "    def function2(self):\n",
    "        print('This is baseB class method')\n",
    "\n",
    "class child(baseA,baseB):\n",
    "    def function3(self):\n",
    "        print('This is child class method')"
   ]
  },
  {
   "cell_type": "code",
   "execution_count": 23,
   "id": "f2bb40c6-59b6-4ca8-acce-d4308163a1b9",
   "metadata": {},
   "outputs": [],
   "source": [
    "childobject=child()"
   ]
  },
  {
   "cell_type": "code",
   "execution_count": 24,
   "id": "390491a4-9547-4ea8-93a2-e385eb2a7a6e",
   "metadata": {},
   "outputs": [
    {
     "name": "stdout",
     "output_type": "stream",
     "text": [
      "This is baseA class method\n"
     ]
    }
   ],
   "source": [
    "childobject.function1()"
   ]
  },
  {
   "cell_type": "code",
   "execution_count": 25,
   "id": "78ac50bb-1847-466e-812b-47474211caec",
   "metadata": {},
   "outputs": [
    {
     "name": "stdout",
     "output_type": "stream",
     "text": [
      "This is baseB class method\n"
     ]
    }
   ],
   "source": [
    "childobject.function2()"
   ]
  },
  {
   "cell_type": "code",
   "execution_count": 26,
   "id": "04acc0d8-7efa-4cbc-a843-aab1ae2cdd4b",
   "metadata": {},
   "outputs": [
    {
     "name": "stdout",
     "output_type": "stream",
     "text": [
      "This is child class method\n"
     ]
    }
   ],
   "source": [
    "childobject.function3()"
   ]
  },
  {
   "cell_type": "markdown",
   "id": "8a219123-14ec-4c9a-bd03-00962ca1ceef",
   "metadata": {},
   "source": [
    "## Q4. What are getter and setter in python? Create a class and create a getter and a setter method in this class."
   ]
  },
  {
   "cell_type": "markdown",
   "id": "0dda2775-b8ed-427e-8364-52f9fa5e9b8f",
   "metadata": {},
   "source": [
    "* property decorator helps expose class properties to public,so we can expose private variables declared in a class to public\n",
    "* getter and setter methods are used to retrieve and modify the values of private instance variables in a class.\n",
    "* Getter methods are used to retrieve the value of a variable, while setter methods are used to modify the value of a variable."
   ]
  },
  {
   "cell_type": "code",
   "execution_count": 43,
   "id": "d3ea9d3e-cd1b-41a9-b1e6-54ddbef2060a",
   "metadata": {},
   "outputs": [],
   "source": [
    "class propertydec:\n",
    "    def __init__(self,name,age):\n",
    "        self.__name=name                      #private variable -name\n",
    "        self.age=age\n",
    "     \n",
    "    @property\n",
    "    def access_details(self):                #access private variable using property decorator\n",
    "        return self.__name,self.age\n",
    "    \n",
    "    @access_details.setter\n",
    "    def set_name(self,name):\n",
    "        self.__name=name                    #sets new value to private name variable\n",
    "        \n",
    "    @access_details.getter\n",
    "    def get_name(self):\n",
    "        return self.__name                  #gets private name variable"
   ]
  },
  {
   "cell_type": "code",
   "execution_count": 44,
   "id": "4602562a-a1be-4f20-9f2f-ecdeae0cd73a",
   "metadata": {},
   "outputs": [],
   "source": [
    "obj1=propertydec('sagarika',23)"
   ]
  },
  {
   "cell_type": "code",
   "execution_count": 45,
   "id": "dfee5949-a0ae-4571-a86a-7a3c34a84255",
   "metadata": {},
   "outputs": [
    {
     "data": {
      "text/plain": [
       "'sagarika'"
      ]
     },
     "execution_count": 45,
     "metadata": {},
     "output_type": "execute_result"
    }
   ],
   "source": [
    "obj1.get_name                               # get private name variable through getter"
   ]
  },
  {
   "cell_type": "code",
   "execution_count": 46,
   "id": "c52ca658-b478-4a60-ab8f-f4dbe54dced5",
   "metadata": {},
   "outputs": [],
   "source": [
    "obj1.set_name='sparsh'                     #sets new value to private name variable"
   ]
  },
  {
   "cell_type": "code",
   "execution_count": 48,
   "id": "cd07b419-58b5-4461-b831-5d3c42d7539f",
   "metadata": {},
   "outputs": [
    {
     "data": {
      "text/plain": [
       "('sparsh', 23)"
      ]
     },
     "execution_count": 48,
     "metadata": {},
     "output_type": "execute_result"
    }
   ],
   "source": [
    "obj1.access_details"
   ]
  },
  {
   "cell_type": "markdown",
   "id": "091a9361-289b-44b2-b770-a4b1eaee698b",
   "metadata": {},
   "source": [
    "## Q5.What is method overriding in python? Write a python code to demonstrate method overriding."
   ]
  },
  {
   "cell_type": "markdown",
   "id": "44ce1e3e-e812-4949-b258-24bda7d87a66",
   "metadata": {},
   "source": [
    "* Method overriding is a feature in object-oriented programming that allows a subclass to provide a different implementation of a method that is already defined in its parent class.\n",
    "* When a method in a subclass has the same name, same parameters, and same return type as a method in its parent class, it is said to be overriding the method in the parent class."
   ]
  },
  {
   "cell_type": "code",
   "execution_count": 55,
   "id": "7609cc69-c699-4264-8c3b-6f6f2e2178e1",
   "metadata": {},
   "outputs": [],
   "source": [
    "class Cat:\n",
    "    def speaks(self):\n",
    "        print('The cat meows')\n",
    "        \n",
    "class Dog:\n",
    "    def speaks(self):\n",
    "        print('The dog barks')\n",
    "        \n",
    "class Animal:\n",
    "    def speaks(self):\n",
    "        print('The animal speaks')"
   ]
  },
  {
   "cell_type": "code",
   "execution_count": 56,
   "id": "849826b7-189a-41c1-8371-97f14645a31d",
   "metadata": {},
   "outputs": [
    {
     "name": "stdout",
     "output_type": "stream",
     "text": [
      "The cat meows\n"
     ]
    }
   ],
   "source": [
    "obj1=Cat()\n",
    "obj1.speaks()"
   ]
  },
  {
   "cell_type": "code",
   "execution_count": 57,
   "id": "4818549b-5ae7-430d-b010-8e6bf45a1dfd",
   "metadata": {},
   "outputs": [
    {
     "name": "stdout",
     "output_type": "stream",
     "text": [
      "The dog barks\n"
     ]
    }
   ],
   "source": [
    "obj2=Dog()\n",
    "obj2.speaks()"
   ]
  },
  {
   "cell_type": "code",
   "execution_count": 58,
   "id": "01dd9440-5b1f-495c-b8ed-a22a33aef8b5",
   "metadata": {},
   "outputs": [
    {
     "name": "stdout",
     "output_type": "stream",
     "text": [
      "The animal speaks\n"
     ]
    }
   ],
   "source": [
    "obj3=Animal()\n",
    "obj3.speaks()"
   ]
  },
  {
   "cell_type": "markdown",
   "id": "752b8ff3-d59c-433b-a42d-9f78f3098a0f",
   "metadata": {},
   "source": [
    "When the speak method is called on instances of the Dog and Cat classes, the overridden implementations of the method in those classes are called instead, and different strings are printed."
   ]
  }
 ],
 "metadata": {
  "kernelspec": {
   "display_name": "Python 3 (ipykernel)",
   "language": "python",
   "name": "python3"
  },
  "language_info": {
   "codemirror_mode": {
    "name": "ipython",
    "version": 3
   },
   "file_extension": ".py",
   "mimetype": "text/x-python",
   "name": "python",
   "nbconvert_exporter": "python",
   "pygments_lexer": "ipython3",
   "version": "3.10.8"
  }
 },
 "nbformat": 4,
 "nbformat_minor": 5
}

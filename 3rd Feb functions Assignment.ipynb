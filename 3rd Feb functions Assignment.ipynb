{
 "cells": [
  {
   "cell_type": "markdown",
   "id": "33b42953-f2d4-4669-9783-88586012c381",
   "metadata": {},
   "source": [
    "### Q1. Which keyword is used to create a function? Create a function to return a list of odd numbers in the range of 1 to 25."
   ]
  },
  {
   "cell_type": "markdown",
   "id": "c493bba6-12dd-4239-a453-cc1abac329a4",
   "metadata": {},
   "source": [
    "def keyword is used to create a function"
   ]
  },
  {
   "cell_type": "code",
   "execution_count": 2,
   "id": "f5156ee8-b93d-4031-99a3-03889c333d62",
   "metadata": {},
   "outputs": [],
   "source": [
    "def function1():\n",
    "    l=[]\n",
    "    for i in range(1,26):\n",
    "        if i%2!=0:\n",
    "            l.append(i)\n",
    "    return l         "
   ]
  },
  {
   "cell_type": "code",
   "execution_count": 3,
   "id": "023fb74a-9116-400d-8568-c2d2891c28e8",
   "metadata": {},
   "outputs": [
    {
     "data": {
      "text/plain": [
       "[1, 3, 5, 7, 9, 11, 13, 15, 17, 19, 21, 23, 25]"
      ]
     },
     "execution_count": 3,
     "metadata": {},
     "output_type": "execute_result"
    }
   ],
   "source": [
    "function1()"
   ]
  },
  {
   "cell_type": "markdown",
   "id": "c02e651c-ff64-4366-8b41-69e0a8eb95ea",
   "metadata": {},
   "source": [
    "### Q2. Why *args and **kwargs is used in some functions? Create a function each for *args and **kwargs to demonstrate their use."
   ]
  },
  {
   "cell_type": "markdown",
   "id": "d07eae54-5a83-4cb7-9319-92ddfde5e4b7",
   "metadata": {},
   "source": [
    "*args ---used to take n number of arguments in a function.Instead of a single list, we can use *args to pass the elements of the list as separate arguments.\n",
    "\n",
    "**kwargs---used to take n number of key value pairs(dictionary) as arguments.Instead of a single list, we can use *kwargs to pass elements of the list as separate arguments."
   ]
  },
  {
   "cell_type": "code",
   "execution_count": 4,
   "id": "c17a605b-eeb4-4097-85ac-36800913b234",
   "metadata": {},
   "outputs": [],
   "source": [
    "def function1(*args):\n",
    "    l=[]\n",
    "    for i in args:\n",
    "        if type(i)==tuple:\n",
    "            l.append(i)\n",
    "    print(l)"
   ]
  },
  {
   "cell_type": "code",
   "execution_count": 6,
   "id": "e5263fd7-0f26-45f7-80ea-21f6c4e15844",
   "metadata": {},
   "outputs": [
    {
     "name": "stdout",
     "output_type": "stream",
     "text": [
      "[(10, 11, 12)]\n"
     ]
    }
   ],
   "source": [
    "function1(1,2,3,[7,8,9],(10,11,12))"
   ]
  },
  {
   "cell_type": "code",
   "execution_count": 10,
   "id": "03bf616d-51b5-4d1a-8810-f36dbf1dec46",
   "metadata": {},
   "outputs": [],
   "source": [
    "def function1(**kwargs):\n",
    "    for i in kwargs.keys():\n",
    "        if type(kwargs[i])==tuple:\n",
    "            return i,kwargs[i]"
   ]
  },
  {
   "cell_type": "code",
   "execution_count": 11,
   "id": "2b6e1e47-e962-484b-8b2b-47d4906b7cf6",
   "metadata": {},
   "outputs": [
    {
     "data": {
      "text/plain": [
       "('c', ('sagarika', 'raina'))"
      ]
     },
     "execution_count": 11,
     "metadata": {},
     "output_type": "execute_result"
    }
   ],
   "source": [
    "function1(a='sags',b='rains',c=('sagarika','raina'))"
   ]
  },
  {
   "cell_type": "markdown",
   "id": "5784f6f2-266b-4e81-a380-072afc468521",
   "metadata": {},
   "source": [
    "### Q3. What is an iterator in python? Name the method used to initialise the iterator object and the method used for iteration. Use these methods to print the first five elements of the given list [2, 4, 6, 8, 10, 12, 14, 16,18, 20]."
   ]
  },
  {
   "cell_type": "markdown",
   "id": "2f3f139d-c553-4b7b-97c7-1cddb620712b",
   "metadata": {},
   "source": [
    "* iter(): The iter() method is called for the initialization of an iterator. This returns an iterator object\n",
    "* next(): The next method returns the next value for the iterable. When we use a for loop to traverse any iterable object, internally it uses the iter() method to get an iterator object, which further uses the next() method to iterate over. This method raises a StopIteration to signal the end of the iteration."
   ]
  },
  {
   "cell_type": "code",
   "execution_count": 12,
   "id": "48b1b7b8-ea74-42ca-b9f8-f08a29a48530",
   "metadata": {},
   "outputs": [
    {
     "name": "stdout",
     "output_type": "stream",
     "text": [
      "2\n",
      "4\n",
      "6\n",
      "8\n",
      "10\n"
     ]
    }
   ],
   "source": [
    "lst=[2, 4, 6, 8, 10, 12, 14, 16, 18, 20]\n",
    "ch_iter=iter(lst)\n",
    "\n",
    "print(next(ch_iter))\n",
    "print(next(ch_iter))\n",
    "print(next(ch_iter))\n",
    "print(next(ch_iter))\n",
    "print(next(ch_iter))"
   ]
  },
  {
   "cell_type": "markdown",
   "id": "12b4c18c-6ae8-4f39-8cc4-b3c7ecad3113",
   "metadata": {},
   "source": [
    "### Q4. What is a generator function in python? Why yield keyword is used? Give an example of a generator function."
   ]
  },
  {
   "cell_type": "markdown",
   "id": "b6cacd9c-8fea-4248-b6f6-55563d0a3040",
   "metadata": {},
   "source": [
    "A generator function is a special type of function that can be used to generate a sequence of values over time, instead of computing all the values at once and returning them in a list.\n",
    "useful for very large data sets."
   ]
  },
  {
   "cell_type": "code",
   "execution_count": 13,
   "id": "3baedcb0-7247-47d6-a499-3b8ec2d9f004",
   "metadata": {},
   "outputs": [
    {
     "name": "stdout",
     "output_type": "stream",
     "text": [
      "0\n",
      "1\n",
      "2\n",
      "3\n",
      "4\n"
     ]
    }
   ],
   "source": [
    "#eg.1:print numbers\n",
    "def generate_numbers(n):\n",
    "    for i in range(n):\n",
    "        yield i\n",
    "\n",
    "gen = generate_numbers(5)\n",
    "\n",
    "for i in gen:\n",
    "    print(i)"
   ]
  },
  {
   "cell_type": "code",
   "execution_count": 18,
   "id": "9d371116-2272-4d31-85c0-57995f2129c7",
   "metadata": {},
   "outputs": [],
   "source": [
    "# eg2.print sum of numbers\n",
    "def test1(n):\n",
    "    sum=0\n",
    "    for i in  range(0,n+1):\n",
    "        sum = sum + i\n",
    "    yield (sum)"
   ]
  },
  {
   "cell_type": "code",
   "execution_count": 19,
   "id": "5f65e9a8-42b8-470a-aadc-2df80e43787b",
   "metadata": {},
   "outputs": [
    {
     "name": "stdout",
     "output_type": "stream",
     "text": [
      "6\n"
     ]
    }
   ],
   "source": [
    "a=test1(3)\n",
    "for i in a:\n",
    "    print(i)"
   ]
  },
  {
   "cell_type": "markdown",
   "id": "9ca2d1ba-6ce1-4520-aa1f-e76f2a66b968",
   "metadata": {},
   "source": [
    "### Q5. Create a generator function for prime numbers less than 1000. Use the next() method to print the first 20 prime numbers."
   ]
  },
  {
   "cell_type": "code",
   "execution_count": 21,
   "id": "0aa74fe6-907d-475d-8746-dbb07dd9e10a",
   "metadata": {},
   "outputs": [
    {
     "name": "stdout",
     "output_type": "stream",
     "text": [
      "2\n",
      "3\n",
      "5\n",
      "7\n",
      "11\n",
      "13\n",
      "17\n",
      "19\n",
      "23\n",
      "29\n",
      "31\n",
      "37\n",
      "41\n",
      "43\n",
      "47\n",
      "53\n",
      "59\n",
      "61\n",
      "67\n",
      "71\n"
     ]
    }
   ],
   "source": [
    "def prime_numbers(limit):\n",
    "    primes = []\n",
    "    for num in range(2, limit):\n",
    "        for prime in primes:\n",
    "            if num % prime == 0:\n",
    "                break\n",
    "        else:\n",
    "            primes.append(num)\n",
    "            yield num\n",
    "\n",
    "gen = prime_numbers(1000)\n",
    "\n",
    "for i in range(20):\n",
    "    print(next(gen))"
   ]
  },
  {
   "cell_type": "code",
   "execution_count": null,
   "id": "7edb8068-0708-41e5-86a9-12242d40fa53",
   "metadata": {},
   "outputs": [],
   "source": []
  }
 ],
 "metadata": {
  "kernelspec": {
   "display_name": "Python 3 (ipykernel)",
   "language": "python",
   "name": "python3"
  },
  "language_info": {
   "codemirror_mode": {
    "name": "ipython",
    "version": 3
   },
   "file_extension": ".py",
   "mimetype": "text/x-python",
   "name": "python",
   "nbconvert_exporter": "python",
   "pygments_lexer": "ipython3",
   "version": "3.10.8"
  }
 },
 "nbformat": 4,
 "nbformat_minor": 5
}

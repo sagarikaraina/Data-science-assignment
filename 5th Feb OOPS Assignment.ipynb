{
 "cells": [
  {
   "cell_type": "markdown",
   "id": "49ab6222-a371-4b11-aa52-4d7f01af0387",
   "metadata": {},
   "source": [
    "### Q1. Explain Class and Object with respect to Object-Oriented Programming. Give a suitable example."
   ]
  },
  {
   "cell_type": "markdown",
   "id": "b4fb6105-e6ca-4ec2-8800-df32b26a79b6",
   "metadata": {},
   "source": [
    "* Class-is blueprint for creating objects.It provides a way to define properties(variable/attribute) and behaviours (methods) of object.\n",
    "\n",
    "* Object-instances of class which represents real life entities that consists of methods and properties to make certain type of data useful."
   ]
  },
  {
   "cell_type": "markdown",
   "id": "66240fbb-4598-4285-b0dd-e8978234d5e4",
   "metadata": {},
   "source": [
    "Eg.Dog is a class which can have different properties like breed,size,age or colour.It can also have methods like eat(),sleep(),eat(),run() which makes each dog unique,and we can create object of dog class to access these methods and properties for different type of dogs."
   ]
  },
  {
   "cell_type": "code",
   "execution_count": 4,
   "id": "c579d379-0253-4da9-9384-fa0a7387765a",
   "metadata": {},
   "outputs": [],
   "source": [
    "class Dog():                                        # class creation\n",
    "    def __init__(self,breed,size,age,colour):       # init initializes properties of an object     \n",
    "        self.breed=breed\n",
    "        self.size=size\n",
    "        self.age=age\n",
    "        self.colour=colour\n",
    "        \n",
    "    def get_breed(self):                            # method creation\n",
    "        return self.breed\n",
    "    \n",
    "    def get_size(self):\n",
    "        return self.size\n",
    "    \n",
    "    def get_age(self):\n",
    "        return self.age\n",
    "    \n",
    "    def get_colour(self):\n",
    "        return self.colour"
   ]
  },
  {
   "cell_type": "code",
   "execution_count": 5,
   "id": "950456eb-63ce-4156-b5a6-3530460242e4",
   "metadata": {},
   "outputs": [],
   "source": [
    "dog_object=Dog('Labrador','Medium','2','golden')  #object creation and properties are set during object creation"
   ]
  },
  {
   "cell_type": "code",
   "execution_count": 6,
   "id": "20dc7ba5-7610-494d-ace1-515612121134",
   "metadata": {},
   "outputs": [
    {
     "data": {
      "text/plain": [
       "'2'"
      ]
     },
     "execution_count": 6,
     "metadata": {},
     "output_type": "execute_result"
    }
   ],
   "source": [
    "dog_object.get_age()"
   ]
  },
  {
   "cell_type": "markdown",
   "id": "32454129-2ad7-41f4-9b1d-b97fc6e3a9a8",
   "metadata": {},
   "source": [
    "### Q2. Name the four pillars of OOPs."
   ]
  },
  {
   "cell_type": "markdown",
   "id": "63289f54-36a2-4211-bf66-0382850ae908",
   "metadata": {},
   "source": [
    "* Abstraction: process of hiding implementation details and exposing only the necessary information to the user.\n",
    "\n",
    "* Encapsulation: the mechanism of wrapping data and methods within an object,making it inaccessible to the outside world and protecting it from accidental data corruption.\n",
    "\n",
    "* Inheritance: allows a new class to inherit the properties and behavior of an existing class. It provides a way to reuse and extend the existing code, making it easier to develop new classes and reduce code duplication.\n",
    "\n",
    "* Polymorphism: the ability of an object to take on many forms. It enables objects of different classes to be treated as objects of the same class. This allows for more flexible and dynamic code that can handle a variety of objects in a generic manner."
   ]
  },
  {
   "cell_type": "markdown",
   "id": "2a2a8029-9462-43db-b567-46f252b43215",
   "metadata": {},
   "source": [
    "### Q3. Explain why the __init__() function is used. Give a suitable example."
   ]
  },
  {
   "cell_type": "markdown",
   "id": "611f62c9-a5ed-41da-9f5b-11bfd074f088",
   "metadata": {},
   "source": [
    "* __init__()->It is a constructor used to initialize objects in Object-Oriented Programming (OOP). It is called automatically when an object is created from a class, and is used to set the initial state of the object."
   ]
  },
  {
   "cell_type": "code",
   "execution_count": 7,
   "id": "b72d6461-c99f-4b20-93d4-307598d63904",
   "metadata": {},
   "outputs": [],
   "source": [
    "class Person():\n",
    "    def __init__(self,name,age):\n",
    "        self.name=name\n",
    "        self.age=age\n",
    "    def display_details(self):\n",
    "        return self.name,self.age"
   ]
  },
  {
   "cell_type": "code",
   "execution_count": 9,
   "id": "6a14ceae-5f53-49cf-ae4f-f6ce4baf8448",
   "metadata": {},
   "outputs": [
    {
     "data": {
      "text/plain": [
       "('sagarika', 'raina')"
      ]
     },
     "execution_count": 9,
     "metadata": {},
     "output_type": "execute_result"
    }
   ],
   "source": [
    "person_obj=Person('sagarika','raina')\n",
    "person_obj.display_details()"
   ]
  },
  {
   "cell_type": "markdown",
   "id": "c1adbe1a-81d4-4546-a010-50db8d8e38bc",
   "metadata": {},
   "source": [
    "### Q4. Why self is used in OOPs?"
   ]
  },
  {
   "cell_type": "markdown",
   "id": "fdd39184-53c0-4024-9865-ca67e40b3a79",
   "metadata": {},
   "source": [
    "*self is a reference to the current instance of an object. It is used to access instance variables (data) and instance methods (functions) of the object.\n",
    "\n",
    "*The self reference/pointer variable points the object instance variables to the class."
   ]
  },
  {
   "cell_type": "code",
   "execution_count": 10,
   "id": "18e0e9bd-c7b0-46e5-b684-0b568c724032",
   "metadata": {},
   "outputs": [
    {
     "name": "stdout",
     "output_type": "stream",
     "text": [
      "Name: John Doe\n",
      "Age: 30\n",
      "Address: 123 Main Street, Anytown USA\n"
     ]
    }
   ],
   "source": [
    "class Person:\n",
    "    def __init__(self, name, age, address):\n",
    "        self.name = name\n",
    "        self.age = age\n",
    "        self.address = address\n",
    "    \n",
    "    def display(self):\n",
    "        print(\"Name:\", self.name)\n",
    "        print(\"Age:\", self.age)\n",
    "        print(\"Address:\", self.address)\n",
    "\n",
    "person = Person(\"John Doe\", 30, \"123 Main Street, Anytown USA\")\n",
    "person.display()\n"
   ]
  },
  {
   "cell_type": "markdown",
   "id": "55ef560b-6151-4858-991e-c11cb60d784d",
   "metadata": {},
   "source": [
    "* the self reference is used to access the instance variables of the Person object within the display method. The self reference is passed to the method automatically when it is called, and it allows you to access the instance variables of the object using the dot notation, for example self.name."
   ]
  },
  {
   "cell_type": "markdown",
   "id": "cc2fe93f-c855-4117-8d12-a1a011d5fcb0",
   "metadata": {},
   "source": [
    "### Q5. What is inheritance? Give an example for each type of inheritance."
   ]
  },
  {
   "cell_type": "markdown",
   "id": "9f557038-fa5c-46d7-91e1-81fca98db613",
   "metadata": {},
   "source": [
    "* Inheritance allows us to create a new class from an existing class.The new class is called the derived class or child class, and the existing class is called the base class or parent class.\n",
    "* The derived class inherits the properties and behaviors of the base class, and can also add new properties and behaviors or override existing ones.\n",
    "\n",
    "1.Single inheritance: This is the simplest form of inheritance, where a derived class inherits properties and behaviors from a single base class. "
   ]
  },
  {
   "cell_type": "code",
   "execution_count": 14,
   "id": "288b1590-69b8-4deb-b7fa-279a7ea2f6ae",
   "metadata": {},
   "outputs": [],
   "source": [
    "class Parent():\n",
    "    def p_function1(self):\n",
    "        print('This is parent class method')"
   ]
  },
  {
   "cell_type": "code",
   "execution_count": 15,
   "id": "051136af-9e28-4c93-b654-b28c98f9e416",
   "metadata": {},
   "outputs": [],
   "source": [
    "class Child(Parent):\n",
    "    def c_function1(self):\n",
    "        print('This is child class method')"
   ]
  },
  {
   "cell_type": "code",
   "execution_count": 16,
   "id": "4a73ca81-4ea7-4af3-a0be-14782b3ac139",
   "metadata": {},
   "outputs": [],
   "source": [
    "child_obj=Child()"
   ]
  },
  {
   "cell_type": "code",
   "execution_count": 19,
   "id": "1abab85b-5017-4a09-9f5a-adc8b3af76ab",
   "metadata": {},
   "outputs": [
    {
     "name": "stdout",
     "output_type": "stream",
     "text": [
      "This is parent class method\n"
     ]
    }
   ],
   "source": [
    "child_obj.p_function1()"
   ]
  },
  {
   "cell_type": "markdown",
   "id": "11ceb170-58b2-4f14-b035-f6566a13d599",
   "metadata": {},
   "source": [
    "2.Multi-level inheritance: This is a form of inheritance where a derived class inherits from a base class, which in turn inherits from another base class. For example:"
   ]
  },
  {
   "cell_type": "code",
   "execution_count": 20,
   "id": "e7f99da4-9eae-4d83-9c54-86a2904f2eb9",
   "metadata": {},
   "outputs": [],
   "source": [
    "class Parent1():\n",
    "    def p_function1(self):\n",
    "        print('This is parent class method')"
   ]
  },
  {
   "cell_type": "code",
   "execution_count": 21,
   "id": "def52581-050c-4b9f-ba31-1c463c9cee39",
   "metadata": {},
   "outputs": [],
   "source": [
    "class Child1(Parent1):\n",
    "    def c1_function1(self):\n",
    "        print('This is child1 class method')"
   ]
  },
  {
   "cell_type": "code",
   "execution_count": 23,
   "id": "a58877c7-1554-44d3-bda6-a8586baf568c",
   "metadata": {},
   "outputs": [],
   "source": [
    "class Child2(Child1):\n",
    "    def c2_function1(self):\n",
    "        print('This is child2 class method')"
   ]
  },
  {
   "cell_type": "code",
   "execution_count": 24,
   "id": "4730491e-a392-4349-b3d6-810f89cb5cb2",
   "metadata": {},
   "outputs": [],
   "source": [
    "child2_obj=Child2()"
   ]
  },
  {
   "cell_type": "code",
   "execution_count": 25,
   "id": "c820d1fd-f89f-4fd9-bc05-4936085288bb",
   "metadata": {},
   "outputs": [
    {
     "name": "stdout",
     "output_type": "stream",
     "text": [
      "This is parent class method\n"
     ]
    }
   ],
   "source": [
    "child2_obj.p_function1()"
   ]
  },
  {
   "cell_type": "code",
   "execution_count": 26,
   "id": "c3bf155e-dc9e-48b1-8079-955a254418f2",
   "metadata": {},
   "outputs": [
    {
     "name": "stdout",
     "output_type": "stream",
     "text": [
      "This is child1 class method\n"
     ]
    }
   ],
   "source": [
    "child2_obj.c1_function1()"
   ]
  },
  {
   "cell_type": "code",
   "execution_count": 27,
   "id": "b7857511-59a6-4e01-8107-cdbe540ad6ae",
   "metadata": {},
   "outputs": [
    {
     "name": "stdout",
     "output_type": "stream",
     "text": [
      "This is child2 class method\n"
     ]
    }
   ],
   "source": [
    "child2_obj.c2_function1()"
   ]
  },
  {
   "cell_type": "markdown",
   "id": "1fba68fd-19df-44ee-b25f-0083d120d1de",
   "metadata": {},
   "source": [
    "3. Multiple inheritance: This is a form of inheritance where a derived class inherits properties and behaviors from multiple base classes. For example:"
   ]
  },
  {
   "cell_type": "code",
   "execution_count": 28,
   "id": "c31c6357-fbb6-47fc-9d37-f7c7f3a71fd9",
   "metadata": {},
   "outputs": [],
   "source": [
    "class Parent2():\n",
    "    def p2_function1(self):\n",
    "        print('This is parent2 class method')"
   ]
  },
  {
   "cell_type": "code",
   "execution_count": 29,
   "id": "967a5da4-63e0-405e-9262-f1b434697937",
   "metadata": {},
   "outputs": [],
   "source": [
    "class Parent3():\n",
    "    def p3_function1(self):\n",
    "        print('This is parent3 class method')"
   ]
  },
  {
   "cell_type": "code",
   "execution_count": 30,
   "id": "1eb304bf-c7d0-4846-ab45-c9df6f544fbe",
   "metadata": {},
   "outputs": [],
   "source": [
    "class Child3(Parent2,Parent3):\n",
    "    def pc3_function1(self):\n",
    "        print('This is child3 class method')"
   ]
  },
  {
   "cell_type": "code",
   "execution_count": 31,
   "id": "b4fc1953-5cef-4c2a-b352-893029c37829",
   "metadata": {},
   "outputs": [],
   "source": [
    "child3_obj=Child3()"
   ]
  },
  {
   "cell_type": "code",
   "execution_count": 32,
   "id": "99ffb553-20d3-4349-8d1a-105e366c85a5",
   "metadata": {},
   "outputs": [
    {
     "name": "stdout",
     "output_type": "stream",
     "text": [
      "This is parent2 class method\n"
     ]
    }
   ],
   "source": [
    "child3_obj.p2_function1()"
   ]
  },
  {
   "cell_type": "code",
   "execution_count": 33,
   "id": "f3a2d0ac-c779-4c37-bc75-45ada6fcbc0e",
   "metadata": {},
   "outputs": [
    {
     "name": "stdout",
     "output_type": "stream",
     "text": [
      "This is parent3 class method\n"
     ]
    }
   ],
   "source": [
    "child3_obj.p3_function1()"
   ]
  },
  {
   "cell_type": "code",
   "execution_count": 34,
   "id": "7a9eff87-98d4-4024-9179-f05e82cd3650",
   "metadata": {},
   "outputs": [
    {
     "name": "stdout",
     "output_type": "stream",
     "text": [
      "This is child3 class method\n"
     ]
    }
   ],
   "source": [
    "child3_obj.pc3_function1()"
   ]
  },
  {
   "cell_type": "code",
   "execution_count": null,
   "id": "615a12ce-33eb-46aa-bf06-ef40a261db95",
   "metadata": {},
   "outputs": [],
   "source": []
  }
 ],
 "metadata": {
  "kernelspec": {
   "display_name": "Python 3 (ipykernel)",
   "language": "python",
   "name": "python3"
  },
  "language_info": {
   "codemirror_mode": {
    "name": "ipython",
    "version": 3
   },
   "file_extension": ".py",
   "mimetype": "text/x-python",
   "name": "python",
   "nbconvert_exporter": "python",
   "pygments_lexer": "ipython3",
   "version": "3.10.8"
  }
 },
 "nbformat": 4,
 "nbformat_minor": 5
}
